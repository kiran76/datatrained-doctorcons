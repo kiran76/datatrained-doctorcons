{
 "cells": [
  {
   "cell_type": "markdown",
   "metadata": {},
   "source": [
    "# Doctor's Consultation Fees Prediction"
   ]
  },
  {
   "cell_type": "markdown",
   "metadata": {},
   "source": [
    "# Data Description"
   ]
  },
  {
   "cell_type": "markdown",
   "metadata": {},
   "source": [
    "Problem Statement:\n",
    "Predict A Doctor's Consultation Fee \n",
    "\n",
    "\n",
    "\n",
    "We have all been in situation where we go to a doctor in emergency and find that the consultation fees are too high. As a data scientist we all should do better. What if you have data that records important details about a doctor and you get to build a model to predict the doctor’s consulting fee.? This is the use case that let's you do that. \n",
    "\n",
    "Size of training set: 5961 records\n",
    "\n",
    "Size of test set: 1987 records\n",
    "\n",
    "\n",
    "\n",
    "FEATURES:\n",
    "\n",
    "Qualification: Qualification and degrees held by the doctor\n",
    "\n",
    "Experience: Experience of the doctor in number of years\n",
    "\n",
    "Rating: Rating given by patients\n",
    "\n",
    "Profile: Type of the doctor\n",
    "\n",
    "Miscellaneous_Info: Extra information about the doctor\n",
    "\n",
    "Fees: Fees charged by the doctor (Target Variable)\n",
    "\n",
    "Place: Area and the city where the doctor is located."
   ]
  },
  {
   "cell_type": "markdown",
   "metadata": {},
   "source": [
    "# Importing required Libariries"
   ]
  },
  {
   "cell_type": "code",
   "execution_count": 6,
   "metadata": {},
   "outputs": [],
   "source": [
    "import pandas as pd\n",
    "import numpy as np\n",
    "import matplotlib.pyplot as plt\n",
    "import seaborn as sns\n",
    "import warnings\n",
    "warnings.filterwarnings('ignore')"
   ]
  },
  {
   "cell_type": "code",
   "execution_count": 7,
   "metadata": {},
   "outputs": [],
   "source": [
    "pd.set_option('display.max_rows',None)"
   ]
  },
  {
   "cell_type": "markdown",
   "metadata": {},
   "source": [
    "# Importing Dataset"
   ]
  },
  {
   "cell_type": "code",
   "execution_count": 8,
   "metadata": {},
   "outputs": [
    {
     "data": {
      "text/html": [
       "<div>\n",
       "<style scoped>\n",
       "    .dataframe tbody tr th:only-of-type {\n",
       "        vertical-align: middle;\n",
       "    }\n",
       "\n",
       "    .dataframe tbody tr th {\n",
       "        vertical-align: top;\n",
       "    }\n",
       "\n",
       "    .dataframe thead th {\n",
       "        text-align: right;\n",
       "    }\n",
       "</style>\n",
       "<table border=\"1\" class=\"dataframe\">\n",
       "  <thead>\n",
       "    <tr style=\"text-align: right;\">\n",
       "      <th></th>\n",
       "      <th>Qualification</th>\n",
       "      <th>Experience</th>\n",
       "      <th>Rating</th>\n",
       "      <th>Place</th>\n",
       "      <th>Profile</th>\n",
       "      <th>Miscellaneous_Info</th>\n",
       "      <th>Fees</th>\n",
       "    </tr>\n",
       "  </thead>\n",
       "  <tbody>\n",
       "    <tr>\n",
       "      <th>0</th>\n",
       "      <td>BHMS, MD - Homeopathy</td>\n",
       "      <td>24 years experience</td>\n",
       "      <td>100%</td>\n",
       "      <td>Kakkanad, Ernakulam</td>\n",
       "      <td>Homeopath</td>\n",
       "      <td>100% 16 Feedback Kakkanad, Ernakulam</td>\n",
       "      <td>100</td>\n",
       "    </tr>\n",
       "    <tr>\n",
       "      <th>1</th>\n",
       "      <td>BAMS, MD - Ayurveda Medicine</td>\n",
       "      <td>12 years experience</td>\n",
       "      <td>98%</td>\n",
       "      <td>Whitefield, Bangalore</td>\n",
       "      <td>Ayurveda</td>\n",
       "      <td>98% 76 Feedback Whitefield, Bangalore</td>\n",
       "      <td>350</td>\n",
       "    </tr>\n",
       "    <tr>\n",
       "      <th>2</th>\n",
       "      <td>MBBS, MS - Otorhinolaryngology</td>\n",
       "      <td>9 years experience</td>\n",
       "      <td>NaN</td>\n",
       "      <td>Mathikere - BEL, Bangalore</td>\n",
       "      <td>ENT Specialist</td>\n",
       "      <td>NaN</td>\n",
       "      <td>300</td>\n",
       "    </tr>\n",
       "    <tr>\n",
       "      <th>3</th>\n",
       "      <td>BSc - Zoology, BAMS</td>\n",
       "      <td>12 years experience</td>\n",
       "      <td>NaN</td>\n",
       "      <td>Bannerghatta Road, Bangalore</td>\n",
       "      <td>Ayurveda</td>\n",
       "      <td>Bannerghatta Road, Bangalore ₹250 Available on...</td>\n",
       "      <td>250</td>\n",
       "    </tr>\n",
       "    <tr>\n",
       "      <th>4</th>\n",
       "      <td>BAMS</td>\n",
       "      <td>20 years experience</td>\n",
       "      <td>100%</td>\n",
       "      <td>Keelkattalai, Chennai</td>\n",
       "      <td>Ayurveda</td>\n",
       "      <td>100% 4 Feedback Keelkattalai, Chennai</td>\n",
       "      <td>250</td>\n",
       "    </tr>\n",
       "  </tbody>\n",
       "</table>\n",
       "</div>"
      ],
      "text/plain": [
       "                    Qualification           Experience Rating  \\\n",
       "0           BHMS, MD - Homeopathy  24 years experience   100%   \n",
       "1    BAMS, MD - Ayurveda Medicine  12 years experience    98%   \n",
       "2  MBBS, MS - Otorhinolaryngology   9 years experience    NaN   \n",
       "3             BSc - Zoology, BAMS  12 years experience    NaN   \n",
       "4                            BAMS  20 years experience   100%   \n",
       "\n",
       "                          Place         Profile  \\\n",
       "0           Kakkanad, Ernakulam       Homeopath   \n",
       "1         Whitefield, Bangalore        Ayurveda   \n",
       "2    Mathikere - BEL, Bangalore  ENT Specialist   \n",
       "3  Bannerghatta Road, Bangalore        Ayurveda   \n",
       "4         Keelkattalai, Chennai        Ayurveda   \n",
       "\n",
       "                                  Miscellaneous_Info  Fees  \n",
       "0               100% 16 Feedback Kakkanad, Ernakulam   100  \n",
       "1              98% 76 Feedback Whitefield, Bangalore   350  \n",
       "2                                                NaN   300  \n",
       "3  Bannerghatta Road, Bangalore ₹250 Available on...   250  \n",
       "4              100% 4 Feedback Keelkattalai, Chennai   250  "
      ]
     },
     "execution_count": 8,
     "metadata": {},
     "output_type": "execute_result"
    }
   ],
   "source": [
    "df=pd.read_excel('C:\\\\Users\\\\Kiran kumar T\\\\Desktop\\\\Final_Train.xlsx')\n",
    "df.head()"
   ]
  },
  {
   "cell_type": "code",
   "execution_count": 9,
   "metadata": {},
   "outputs": [
    {
     "name": "stdout",
     "output_type": "stream",
     "text": [
      "<class 'pandas.core.frame.DataFrame'>\n",
      "RangeIndex: 5961 entries, 0 to 5960\n",
      "Data columns (total 7 columns):\n",
      " #   Column              Non-Null Count  Dtype \n",
      "---  ------              --------------  ----- \n",
      " 0   Qualification       5961 non-null   object\n",
      " 1   Experience          5961 non-null   object\n",
      " 2   Rating              2659 non-null   object\n",
      " 3   Place               5936 non-null   object\n",
      " 4   Profile             5961 non-null   object\n",
      " 5   Miscellaneous_Info  3341 non-null   object\n",
      " 6   Fees                5961 non-null   int64 \n",
      "dtypes: int64(1), object(6)\n",
      "memory usage: 326.1+ KB\n"
     ]
    }
   ],
   "source": [
    "df.info()                                          # Check the information of dataset"
   ]
  },
  {
   "cell_type": "code",
   "execution_count": 10,
   "metadata": {},
   "outputs": [
    {
     "data": {
      "text/plain": [
       "(5961, 7)"
      ]
     },
     "execution_count": 10,
     "metadata": {},
     "output_type": "execute_result"
    }
   ],
   "source": [
    "df.shape                                  # Check the shape of dataset"
   ]
  },
  {
   "cell_type": "markdown",
   "metadata": {},
   "source": [
    "We have 5961 rows and 7 columns including the target column."
   ]
  },
  {
   "cell_type": "code",
   "execution_count": 11,
   "metadata": {},
   "outputs": [
    {
     "data": {
      "text/plain": [
       "100    1306\n",
       "500     938\n",
       "200     904\n",
       "300     864\n",
       "400     424\n",
       "250     307\n",
       "150     253\n",
       "600     215\n",
       "700     153\n",
       "800     143\n",
       "350     143\n",
       "50       81\n",
       "450      65\n",
       "750      34\n",
       "550      22\n",
       "650      21\n",
       "900      18\n",
       "70       18\n",
       "80       12\n",
       "60       11\n",
       "30        4\n",
       "10        2\n",
       "260       2\n",
       "130       2\n",
       "180       2\n",
       "40        2\n",
       "380       2\n",
       "220       1\n",
       "280       1\n",
       "499       1\n",
       "5         1\n",
       "920       1\n",
       "299       1\n",
       "125       1\n",
       "230       1\n",
       "430       1\n",
       "630       1\n",
       "850       1\n",
       "950       1\n",
       "20        1\n",
       "Name: Fees, dtype: int64"
      ]
     },
     "execution_count": 11,
     "metadata": {},
     "output_type": "execute_result"
    }
   ],
   "source": [
    "df['Fees'].value_counts()"
   ]
  },
  {
   "cell_type": "markdown",
   "metadata": {},
   "source": [
    "# Exploratory Data Analysis"
   ]
  },
  {
   "cell_type": "markdown",
   "metadata": {},
   "source": [
    "# Graphical Representation"
   ]
  },
  {
   "cell_type": "code",
   "execution_count": 12,
   "metadata": {},
   "outputs": [
    {
     "data": {
      "text/plain": [
       "Text(0.5, 1.0, 'Doctor Consultancy fees')"
      ]
     },
     "execution_count": 12,
     "metadata": {},
     "output_type": "execute_result"
    },
    {
     "data": {
      "image/png": "[encoded data removed]",
      "text/plain": [
       "<Figure size 432x288 with 1 Axes>"
      ]
     },
     "metadata": {
      "needs_background": "light"
     },
     "output_type": "display_data"
    }
   ],
   "source": [
    "# Histogram Display distribution of data across Doctor Consultancy fees.\n",
    "plt.hist(df['Fees'])\n",
    "plt.xlabel('Fees')\n",
    "plt.title('Doctor Consultancy fees')"
   ]
  },
  {
   "cell_type": "code",
   "execution_count": 13,
   "metadata": {},
   "outputs": [
    {
     "data": {
      "text/plain": [
       "<AxesSubplot:title={'center':'Profile vs Fees'}, xlabel='Profile', ylabel='Fees'>"
      ]
     },
     "execution_count": 13,
     "metadata": {},
     "output_type": "execute_result"
    },
    {
     "data": {
      "image/png": "[encoded data removed]",
      "text/plain": [
       "<Figure size 2520x360 with 1 Axes>"
      ]
     },
     "metadata": {
      "needs_background": "light"
     },
     "output_type": "display_data"
    }
   ],
   "source": [
    "# Barplot Display distribution of data across all level of category\n",
    "plt.figure(figsize=(35,5))\n",
    "plt.title('Profile vs Fees')\n",
    "sns.barplot(x='Profile',y='Fees',data=df)"
   ]
  },
  {
   "cell_type": "code",
   "execution_count": 14,
   "metadata": {},
   "outputs": [
    {
     "data": {
      "image/png": "[encoded data removed]",
      "text/plain": [
       "<Figure size 1080x360 with 1 Axes>"
      ]
     },
     "metadata": {
      "needs_background": "light"
     },
     "output_type": "display_data"
    }
   ],
   "source": [
    "# Scatterplot Display distribution of data across Experience Analysis.\n",
    "plt.figure(figsize=(15,5))\n",
    "plt.title('Experience Analysis')\n",
    "plt.scatter(df['Experience'],df['Fees'],s=20)\n",
    "plt.show()"
   ]
  },
  {
   "cell_type": "code",
   "execution_count": 15,
   "metadata": {},
   "outputs": [
    {
     "data": {
      "image/png": "[encoded data removed]",
      "text/plain": [
       "<Figure size 1080x360 with 1 Axes>"
      ]
     },
     "metadata": {
      "needs_background": "light"
     },
     "output_type": "display_data"
    }
   ],
   "source": [
    "# Scatterplot Display distribution of data across Profile Analysis.\n",
    "plt.figure(figsize=(15,5))\n",
    "plt.title('Profile Analysis')\n",
    "plt.scatter(df['Profile'],df['Fees'],s=2)\n",
    "plt.show()"
   ]
  },
  {
   "cell_type": "code",
   "execution_count": 16,
   "metadata": {},
   "outputs": [
    {
     "data": {
      "image/png": "[encoded data removed]",
      "text/plain": [
       "<Figure size 1080x360 with 1 Axes>"
      ]
     },
     "metadata": {
      "needs_background": "light"
     },
     "output_type": "display_data"
    }
   ],
   "source": [
    "# Barplot Display distribution of data across Doctor Fees Analysis.\n",
    "plt.figure(figsize=(15,5))\n",
    "plt.title('Doctor Fees profile')\n",
    "sns.barplot(x='Profile',y='Fees',data=df)\n",
    "plt.show()"
   ]
  },
  {
   "cell_type": "code",
   "execution_count": 17,
   "metadata": {},
   "outputs": [
    {
     "data": {
      "image/png": "[encoded data removed]",
      "text/plain": [
       "<Figure size 1080x360 with 1 Axes>"
      ]
     },
     "metadata": {
      "needs_background": "light"
     },
     "output_type": "display_data"
    }
   ],
   "source": [
    "# Lineplot Display distribution of data across Experience of doctor vs Fees.\n",
    "plt.figure(figsize=(15,5))\n",
    "plt.title('Experience of doctor vs Fees')\n",
    "sns.lineplot(x='Experience',y='Fees',data=df)\n",
    "plt.show()"
   ]
  },
  {
   "cell_type": "code",
   "execution_count": 18,
   "metadata": {},
   "outputs": [
    {
     "data": {
      "image/png": "[encoded data removed]",
      "text/plain": [
       "<Figure size 1080x720 with 1 Axes>"
      ]
     },
     "metadata": {
      "needs_background": "light"
     },
     "output_type": "display_data"
    }
   ],
   "source": [
    "# Barplot Display distribution of data across Rating vs Doctor_Fees.\n",
    "plt.figure(figsize=(15,10))\n",
    "plt.title('Rating vs Doctor_Fees')\n",
    "sns.barplot(x='Rating',y='Fees',data=df)\n",
    "plt.show()"
   ]
  },
  {
   "cell_type": "code",
   "execution_count": 19,
   "metadata": {},
   "outputs": [
    {
     "data": {
      "text/plain": [
       "<AxesSubplot:xlabel='Fees', ylabel='Density'>"
      ]
     },
     "execution_count": 19,
     "metadata": {},
     "output_type": "execute_result"
    },
    {
     "data": {
      "image/png": "[encoded data removed]",
      "text/plain": [
       "<Figure size 432x288 with 1 Axes>"
      ]
     },
     "metadata": {
      "needs_background": "light"
     },
     "output_type": "display_data"
    }
   ],
   "source": [
    "# Distplot Display distribution of data across Fees.\n",
    "sns.distplot(df['Fees'])"
   ]
  },
  {
   "cell_type": "markdown",
   "metadata": {},
   "source": [
    "# Preprocessing"
   ]
  },
  {
   "cell_type": "code",
   "execution_count": 20,
   "metadata": {},
   "outputs": [
    {
     "data": {
      "text/plain": [
       "Index(['Qualification', 'Experience', 'Rating', 'Place', 'Profile',\n",
       "       'Miscellaneous_Info', 'Fees'],\n",
       "      dtype='object')"
      ]
     },
     "execution_count": 20,
     "metadata": {},
     "output_type": "execute_result"
    }
   ],
   "source": [
    "df.columns"
   ]
  },
  {
   "cell_type": "code",
   "execution_count": 21,
   "metadata": {},
   "outputs": [
    {
     "data": {
      "text/plain": [
       "array(['BHMS, MD - Homeopathy', 'BAMS, MD - Ayurveda Medicine',\n",
       "       'MBBS, MS - Otorhinolaryngology', ...,\n",
       "       'MD - Dermatology , Venereology & Leprosy, MBBS, Fellowship In Dermatosurgery',\n",
       "       'BDS, certification in smile designing',\n",
       "       'MD - Homeopathy, Post Graduate Diploma in Healthcare Management(PGDHM), DHMS (Diploma in Homeopathic Medicine and Surgery)'],\n",
       "      dtype=object)"
      ]
     },
     "execution_count": 21,
     "metadata": {},
     "output_type": "execute_result"
    }
   ],
   "source": [
    "df['Qualification'].unique()"
   ]
  },
  {
   "cell_type": "code",
   "execution_count": 22,
   "metadata": {},
   "outputs": [
    {
     "data": {
      "text/plain": [
       "array(['24 years experience', '12 years experience', '9 years experience',\n",
       "       '20 years experience', '8 years experience', '42 years experience',\n",
       "       '10 years experience', '14 years experience',\n",
       "       '23 years experience', '5 years experience', '7 years experience',\n",
       "       '21 years experience', '19 years experience',\n",
       "       '41 years experience', '31 years experience',\n",
       "       '25 years experience', '16 years experience',\n",
       "       '15 years experience', '11 years experience',\n",
       "       '22 years experience', '38 years experience', '6 years experience',\n",
       "       '36 years experience', '13 years experience',\n",
       "       '18 years experience', '46 years experience',\n",
       "       '40 years experience', '49 years experience',\n",
       "       '33 years experience', '0 years experience', '27 years experience',\n",
       "       '30 years experience', '52 years experience',\n",
       "       '60 years experience', '26 years experience',\n",
       "       '35 years experience', '34 years experience',\n",
       "       '39 years experience', '32 years experience',\n",
       "       '17 years experience', '28 years experience',\n",
       "       '58 years experience', '4 years experience', '45 years experience',\n",
       "       '44 years experience', '3 years experience', '37 years experience',\n",
       "       '50 years experience', '29 years experience',\n",
       "       '43 years experience', '54 years experience',\n",
       "       '66 years experience', '2 years experience', '51 years experience',\n",
       "       '47 years experience', '48 years experience',\n",
       "       '53 years experience', '56 years experience',\n",
       "       '61 years experience', '59 years experience',\n",
       "       '57 years experience', '55 years experience',\n",
       "       '65 years experience', '64 years experience'], dtype=object)"
      ]
     },
     "execution_count": 22,
     "metadata": {},
     "output_type": "execute_result"
    }
   ],
   "source": [
    "df['Experience'].unique()"
   ]
  },
  {
   "cell_type": "code",
   "execution_count": 23,
   "metadata": {},
   "outputs": [
    {
     "data": {
      "text/plain": [
       "array(['100%', '98%', nan, '99%', '79%', '95%', '97%', '94%', '88%',\n",
       "       '90%', '80%', '93%', '36%', '78%', '87%', '96%', '82%', '89%',\n",
       "       '74%', '86%', '92%', '83%', '76%', '85%', '56%', '91%', '68%',\n",
       "       '60%', '75%', '69%', '73%', '67%', '77%', '33%', '55%', '71%',\n",
       "       '84%', '45%', '63%', '72%', '81%', '62%', '57%', '7%', '48%',\n",
       "       '40%', '70%', '64%', '65%', '47%', '58%', '53%'], dtype=object)"
      ]
     },
     "execution_count": 23,
     "metadata": {},
     "output_type": "execute_result"
    }
   ],
   "source": [
    "df['Rating'].unique()"
   ]
  },
  {
   "cell_type": "code",
   "execution_count": 24,
   "metadata": {},
   "outputs": [
    {
     "data": {
      "text/plain": [
       "array(['Kakkanad, Ernakulam', 'Whitefield, Bangalore',\n",
       "       'Mathikere - BEL, Bangalore', 'Bannerghatta Road, Bangalore',\n",
       "       'Keelkattalai, Chennai', 'Porur, Chennai', 'Karol Bagh, Delhi',\n",
       "       'Arekere, Bangalore', 'Old City, Hyderabad', 'Athani, Ernakulam',\n",
       "       'Thousand Lights, Chennai', 'Somajiguda, Hyderabad',\n",
       "       'Coimbatore Racecourse, Coimbatore', 'Jubilee Hills, Hyderabad',\n",
       "       'Kondli, Delhi', 'Saroor Nagar, Hyderabad',\n",
       "       'Tambaram West, Chennai', 'Purasawakkam, Chennai',\n",
       "       'KPHB, Hyderabad', 'HSR Layout, Bangalore', 'Pollachi, Coimbatore',\n",
       "       'Vasundhra Enclave, Delhi', 'Chembur, Mumbai',\n",
       "       'Thammanam, Ernakulam', 'Andheri, Mumbai',\n",
       "       'Pattom, Thiruvananthapuram', 'Kukatpally, Hyderabad',\n",
       "       'Vadavalli, Coimbatore', 'Defence Colony, Delhi',\n",
       "       'Banjara Hills, Hyderabad', 'Sion West, Mumbai', 'CR Park, Delhi',\n",
       "       'Mogappair East, Chennai', 'IP Extension, Delhi',\n",
       "       'Safdarjung Enclave, Delhi', 'New Friends Colony, Delhi',\n",
       "       'Borivali West, Mumbai', 'Saket, Delhi', 'Malad, Mumbai',\n",
       "       'Hyder Nagar, Hyderabad', 'Dahisar West, Mumbai',\n",
       "       'RT Nagar, Bangalore', 'Powai, Mumbai', 'Basheerbagh, Hyderabad',\n",
       "       'Musheerabad, Hyderabad', 'AS Rao Nagar, Hyderabad',\n",
       "       'Madhapur, Hyderabad', 'Gandhinagar, Hyderabad',\n",
       "       'Chetpet, Chennai', 'Vileparle East, Mumbai',\n",
       "       'Yelahanka New Town, Bangalore', 'Kodambakkam, Chennai',\n",
       "       'Malleswaram, Bangalore', 'Pallikaranai, Chennai',\n",
       "       'Nallakunta, Hyderabad', 'Paschim Vihar, Delhi',\n",
       "       'Meera Bagh, Delhi', 'Chattarpur, Delhi', 'Andheri West, Mumbai',\n",
       "       'Himayat Nagar, Hyderabad', 'Adambakkam, Chennai',\n",
       "       'Punjabi Bagh, Delhi', 'Mahalaxmi, Mumbai', 'Kalina, Mumbai',\n",
       "       'Attapur, Hyderabad', 'Lakdikapul, Hyderabad', 'Ambattur, Chennai',\n",
       "       'Ramnagar, Coimbatore', 'Shalimar Bagh, Delhi',\n",
       "       'Nungambakkam, Chennai', 'Miyapur, Hyderabad', 'Sagarpur, Delhi',\n",
       "       'Girgaon, Mumbai', 'Jayanagar, Bangalore',\n",
       "       'Palayam, Thiruvananthapuram', 'Munirka, Delhi',\n",
       "       'Tuglakabad, Delhi', 'Moosarambagh, Hyderabad', nan,\n",
       "       'Anna Nagar East, Chennai', 'Bandra West, Mumbai',\n",
       "       'Kanakpura Road, Bangalore', 'Green Park, Delhi',\n",
       "       'Maduravoyal, Chennai', 'Dahisar East, Mumbai',\n",
       "       'Moosapet, Hyderabad', 'Koramangala, Bangalore',\n",
       "       'TV Medical College, Thiruvananthapuram', 'Kadavanthra, Ernakulam',\n",
       "       'Greams Road, Chennai', 'Bommanahalli, Bangalore',\n",
       "       'T Nagar, Chennai', 'Yelahanka, Bangalore',\n",
       "       'Hazrat Nizamuddin, Delhi', 'Old Rajendra Nagar, Delhi',\n",
       "       'Dadar West, Mumbai', 'Indiranagar, Bangalore',\n",
       "       'Perumbakkam, Chennai', 'Shaikpet, Hyderabad',\n",
       "       'Vyttila, Ernakulam', 'Khar West, Mumbai', 'Goregaon West, Mumbai',\n",
       "       'Bakkarwala, Delhi', 'Nesapakkam, Chennai',\n",
       "       'BTM Layout 2nd Stage, Bangalore', 'Ashok Nagar, Chennai',\n",
       "       'Chandivali, Mumbai', 'Uttam Nagar, Delhi',\n",
       "       'Gujranwala Town, Delhi', 'Greater Kailash Part 1, Delhi',\n",
       "       'Panchsheel Park, Delhi', 'Thoraipakkam, Chennai',\n",
       "       'South Extension 2, Delhi', 'Kandivali East, Mumbai',\n",
       "       'Pitampura, Delhi', 'Banashankari 3rd Stage, Bangalore',\n",
       "       'Kolenchery, Ernakulam', 'Kumaraswamy Layout, Bangalore',\n",
       "       'Vadapalani, Chennai', 'Manikonda, Hyderabad',\n",
       "       'Gandhipuram, Coimbatore', 'Yeshwanthpur, Bangalore',\n",
       "       'Ayanavaram, Chennai', 'Basaveshwaranagar, Bangalore',\n",
       "       'Malad West, Mumbai', 'Vikas Puri, Delhi', 'Kondapur, Hyderabad',\n",
       "       'Andheri East, Mumbai', 'Sulur, Coimbatore', 'Adyar, Chennai',\n",
       "       'Krishna Nagar, Delhi', 'Langer House, Hyderabad',\n",
       "       'Thiruvanmiyur, Chennai', 'Dwarka, Delhi', 'Bhandup West, Mumbai',\n",
       "       'Janak Puri, Delhi', 'Rajajinagar, Bangalore',\n",
       "       'South Extension 1, Delhi', 'Kemps Corner, Mumbai',\n",
       "       'Peelamedu, Coimbatore', 'Kandivali West, Mumbai',\n",
       "       'Thevara, Ernakulam', 'Wilson Garden, Bangalore', 'Wadala, Mumbai',\n",
       "       'Pahar Ganj, Delhi', 'Chanchalguda, Hyderabad',\n",
       "       'Chikkadpally, Hyderabad', 'Pasur-avanashi, Coimbatore',\n",
       "       'Nagarbhavi, Bangalore', 'Lajpat Nagar, Delhi',\n",
       "       'Mayur Vihar Ph-I, Delhi', 'Dilshad Garden, Delhi',\n",
       "       'Vijayanagar, Bangalore', 'Alwarpet, Chennai',\n",
       "       'Pappanamcode, Thiruvananthapuram', 'Aluva, Ernakulam',\n",
       "       'Nariman Point, Mumbai', 'Kilkattalai, Chennai',\n",
       "       'Dilsukhnagar, Hyderabad', 'Kurla West, Mumbai',\n",
       "       'Begumpet, Hyderabad', 'Kaloor, Ernakulam',\n",
       "       'Hitech City, Hyderabad', 'Goregaon East, Mumbai',\n",
       "       'Velandipalayam, Coimbatore', 'Ghatkopar East, Mumbai',\n",
       "       'Mulund West, Mumbai', 'Yousufguda, Hyderabad',\n",
       "       'Ghatkopar West, Mumbai', 'TVM Beach, Thiruvananthapuram',\n",
       "       'Vanagaram, Chennai', 'Worli, Mumbai',\n",
       "       'Koramangala 1 Block, Bangalore', 'Saki Vihar Road, Mumbai',\n",
       "       'Versova, Mumbai', 'CV Raman Nagar, Bangalore',\n",
       "       'Secunderabad, Hyderabad', 'BTM Layout 1st Stage, Bangalore',\n",
       "       'Ramkoti, Hyderabad', 'MRC Nagar, Chennai',\n",
       "       'Malkajgiri, Hyderabad', 'Gachibowli, Hyderabad',\n",
       "       'Mogappair West, Chennai', 'Mayur Vihar Ph-III, Delhi',\n",
       "       'Kurla East, Mumbai', 'Ashok Vihar, Delhi', 'Mahim, Mumbai',\n",
       "       'Villivakkam, Chennai', 'Srinagar Colony, Hyderabad',\n",
       "       'Chromepet, Chennai', 'Pammal, Chennai', 'Banashankari, Bangalore',\n",
       "       'Velachery, Chennai', 'Chanakyapuri, Delhi',\n",
       "       'Kalyan Nagar, Bangalore', 'Oshiwara, Mumbai',\n",
       "       'Karapakkam, Chennai', 'Borivali, Mumbai', 'Mylapore, Chennai',\n",
       "       'Electronics City, Bangalore', 'Perungudi, Chennai',\n",
       "       'Basavanagudi, Bangalore', 'MG Road, Bangalore',\n",
       "       'Thiruvottiyur, Chennai', 'Greater Kailash Part 2, Delhi',\n",
       "       'Bilekahalli, Bangalore', 'Nanganallur, Chennai', 'Rohini, Delhi',\n",
       "       'Thrikkakara, Ernakulam', 'Manapakkam, Chennai',\n",
       "       'Bellandur, Bangalore', 'Ameerpet, Hyderabad',\n",
       "       'Thiruvallom, Thiruvananthapuram', 'R.S. Puram, Coimbatore',\n",
       "       'Kumarapuram, Thiruvananthapuram', 'Palam Colony, Delhi',\n",
       "       'Manali, Chennai', 'Valasaravakkam, Chennai',\n",
       "       'Barkatpura, Hyderabad', 'Singanallur, Coimbatore',\n",
       "       'Mulund, Mumbai', 'Dadar East, Mumbai', 'Borabanda, Hyderabad',\n",
       "       'Model Town 3, Delhi', 'Ulsoor, Bangalore',\n",
       "       'Bhayandar West, Mumbai', 'Hari Nagar, Delhi',\n",
       "       'Horamavu, Bangalore', 'Santacruz East, Mumbai',\n",
       "       'OMR Road, Chennai', 'Kammana Halli, Bangalore',\n",
       "       'Tilak Nagar, Delhi', 'Panathur, Bangalore',\n",
       "       'Rajarajeshwarinagar, Bangalore', 'Paravur, Ernakulam',\n",
       "       'Preet Vihar, Delhi', 'Chembur East, Mumbai', 'Jakkur, Bangalore',\n",
       "       'Vanasthalipuram, Hyderabad', 'Mandaveli, Chennai',\n",
       "       'Kumara Park West, Bangalore', 'Domlur, Bangalore',\n",
       "       'Jeevanbhimanagar, Bangalore', 'Santacruz West, Mumbai',\n",
       "       'Shankar Vihar, Delhi', 'Jogeshwari East, Mumbai',\n",
       "       'Kasavanahalli, Bangalore', 'Ambalamukku, Thiruvananthapuram',\n",
       "       'Jhilmil Colony, Delhi', 'Dwarka Sector 7, Delhi',\n",
       "       'Tatabad, Coimbatore', 'Marine Lines, Mumbai',\n",
       "       'Tolichowki, Hyderabad', 'Sundarapuram, Coimbatore',\n",
       "       'Kothanur, Bangalore', 'Chinmaya Nagar, Chennai',\n",
       "       'Vasant Vihar, Delhi', 'Mehdipatnam, Hyderabad',\n",
       "       'Kadugodi, Bangalore', 'Ganapathy, Coimbatore',\n",
       "       'SR Nagar, Hyderabad', 'Perambur, Chennai', 'Opera House, Mumbai',\n",
       "       'Selvapuram, Coimbatore', 'Karkardooma, Delhi',\n",
       "       'Alwarthirunagar, Chennai', 'KR Puram, Bangalore',\n",
       "       'Ramesh Nagar, Delhi', 'Malakpet, Hyderabad',\n",
       "       'Tondiarpet, Chennai', 'Vikrampuri Colony, Hyderabad',\n",
       "       'Besant Nagar, Chennai', 'Vasant Kunj, Delhi',\n",
       "       'Banaswadi, Bangalore', 'BTM Layout, Bangalore',\n",
       "       'Medavakkam, Chennai', 'Vileparle West, Mumbai',\n",
       "       'Sahakaranagar, Bangalore', 'LB Nagar, Hyderabad',\n",
       "       'Punjagutta, Hyderabad', 'Yamuna Vihar, Delhi',\n",
       "       'Marathahalli, Bangalore', 'JP Nagar 2 Phase, Bangalore',\n",
       "       'Rani Bagh, Delhi', 'Jayamahal, Bangalore', 'Nagpada, Mumbai',\n",
       "       'Kundalahalli, Bangalore', 'Kailash Colony, Delhi',\n",
       "       'Pandav Nagar, Delhi', 'Karkhana, Hyderabad',\n",
       "       'West Mambalam, Chennai', 'Aminjikarai, Chennai',\n",
       "       'Madipakkam, Chennai', 'Charkop, Mumbai', 'Adarsh Nagar, Delhi',\n",
       "       'Dadar, Mumbai', 'Kaggadasapura, Bangalore', 'Matunga, Mumbai',\n",
       "       'Sun city, Hyderabad', 'Mahadevapura, Bangalore',\n",
       "       'Kalady, Ernakulam', 'Anna Nagar West, Chennai',\n",
       "       'Mayur Vihar Ph-II, Delhi', 'Tis Hazari, Delhi',\n",
       "       'Vennala, Ernakulam', 'Mira Road, Mumbai', 'Alwal, Hyderabad',\n",
       "       'Trimulgherry, Hyderabad', 'Raja Annamalai Puram, Chennai',\n",
       "       'JP Nagar 7 Phase, Bangalore', 'Old Bowenpally, Hyderabad',\n",
       "       'Santosh Nagar, Hyderabad', 'Hope College, Coimbatore',\n",
       "       'Mulund East, Mumbai', 'Mount Road, Chennai',\n",
       "       'Patel Nagar West, Delhi', 'Jayanagar 4 Block, Bangalore',\n",
       "       'West Marredpally, Hyderabad', 'Jagriti Enclave, Delhi',\n",
       "       'Sarita Vihar, Delhi', 'Rajendra Nagar, Hyderabad',\n",
       "       'Thudiyalur, Coimbatore', 'Bhayandar East, Mumbai',\n",
       "       'Narayanguda, Hyderabad', 'Kothapet, Hyderabad',\n",
       "       'KK Nagar, Chennai', 'Tripunithura, Ernakulam',\n",
       "       'Model Town, Delhi', 'Suchitra Circle, Hyderabad',\n",
       "       'Pusa Road, Delhi', 'Vijaynagar Colony, Hyderabad',\n",
       "       'Alandur, Chennai', 'Cuffe Parade, Mumbai', 'Kalkaji, Delhi',\n",
       "       'Saibaba Colony, Coimbatore', 'Kattakada, Thiruvananthapuram',\n",
       "       'Jogeshwari West, Mumbai', 'Erragadda, Hyderabad',\n",
       "       'Tilak Nagar, Hyderabad', 'Edapally, Ernakulam',\n",
       "       'Patparganj, Delhi', 'Sainikpuri, Hyderabad',\n",
       "       'Nanjundapuram, Coimbatore', 'Nizampet, Hyderabad',\n",
       "       'Kolathur, Chennai', 'Chamarajpet, Bangalore',\n",
       "       'Kala Ghoda, Mumbai', 'Padmarao Nagar, Hyderabad',\n",
       "       'Uppal, Hyderabad', 'Guduvanchery, Chennai',\n",
       "       'Satya Niketan, Delhi', 'Chanda Nagar, Hyderabad',\n",
       "       'Sowripalayam, Coimbatore', 'Vikhroli West, Mumbai',\n",
       "       'Rajouri Garden, Delhi', 'Alaknanda, Delhi',\n",
       "       'Millers Road, Bangalore', 'Kandanchavadi, Chennai',\n",
       "       'Vigyan Vihar, Delhi', 'Bandra East, Mumbai',\n",
       "       'Vilankurichi, Coimbatore', 'Malad East, Mumbai',\n",
       "       'Prabhadevi, Mumbai', 'Ulloor, Thiruvananthapuram',\n",
       "       'Rajakilpakkam, Chennai', 'Greater Kailash, Delhi',\n",
       "       'Madinaguda, Hyderabad', 'Borivali East, Mumbai', 'Juhu, Mumbai',\n",
       "       'Mugalivakkam, Chennai', 'Hebbal, Bangalore', 'Kirti Nagar, Delhi',\n",
       "       'Balaramapuram, Thiruvananthapuram', 'Bhandup East, Mumbai',\n",
       "       'VV Puram, Bangalore', 'Kilpauk, Chennai', 'Jacob Circle, Mumbai',\n",
       "       'Singasandra, Bangalore', 'Khairatabad, Hyderabad',\n",
       "       'Coimbatore Aerodrome, Coimbatore', 'J.C Nagar, Bangalore',\n",
       "       'Naraina Vihar, Delhi', 'Virugambakkam, Chennai',\n",
       "       'RK Puram, Delhi', 'Banashankari 1st Stage, Bangalore',\n",
       "       'Lajpat Nagar 4, Delhi', 'Jayanagar 5 Block, Bangalore',\n",
       "       'Kalyanpuri, Hyderabad', 'Tambaram, Chennai', 'Laxmi Nagar, Delhi',\n",
       "       'Anand Vihar, Delhi', 'Charni Road, Mumbai',\n",
       "       'Patel Nagar East, Delhi', 'Jayanagar 9 Block, Bangalore',\n",
       "       'Ecil, Hyderabad', 'Ramamurthy Nagar, Bangalore',\n",
       "       'Raj Nagar - 2, Delhi', 'Chunabhatti, Mumbai',\n",
       "       'Vikhroli East, Mumbai', 'Shakarpur, Delhi', 'Shahdara, Delhi',\n",
       "       'Govandi, Mumbai', 'Mira Bhayandar, Mumbai',\n",
       "       'Doddanekundi, Bangalore', 'Madhu Vihar, Delhi', 'Guindy, Chennai',\n",
       "       'Palarivattom, Ernakulam', 'Charminar, Hyderabad',\n",
       "       'Old Airport Road, Bangalore', 'Sarjapur Road, Bangalore',\n",
       "       'Okhla, Delhi', 'Baghlingampally, Hyderabad', 'Trombay, Mumbai',\n",
       "       'HRBR Layout, Bangalore', 'Fort, Mumbai', 'Shastri Nagar, Delhi',\n",
       "       'Red Hills, Chennai', 'New BEL Road, Bangalore',\n",
       "       'Park Town, Chennai', 'Frazer Town, Bangalore',\n",
       "       'Falaknuma, Hyderabad', 'Rohini Sector 7, Delhi',\n",
       "       'East Of Kailash, Delhi', 'Chintadripet, Chennai',\n",
       "       'Tagore Garden, Delhi', 'Tri Nagar, Delhi',\n",
       "       'Muttada, Thiruvananthapuram', 'Munnekollal, Bangalore',\n",
       "       'TV Museum, Thiruvananthapuram', 'Shivalik, Delhi',\n",
       "       'Neb Sarai, Delhi', 'Mahalakshmi Layout, Bangalore',\n",
       "       'Mankhurd, Mumbai', 'Kamla Nagar, Delhi',\n",
       "       'Saravanampatti, Coimbatore', 'Selaiyur, Chennai',\n",
       "       'Saligramam, Chennai', 'Thirumullaivoyal, Chennai',\n",
       "       'Teynampet, Chennai', 'Kochi, Ernakulam',\n",
       "       'Vidyaranyapura, Bangalore', 'Mogappair, Chennai',\n",
       "       'Mazgaon, Mumbai', 'Shivaji Nagar, Bangalore', 'Jangpura, Delhi',\n",
       "       'Kaudiar Square, Thiruvananthapuram', 'Arumbakkam, Chennai',\n",
       "       'Cherai, Ernakulam', 'Mira-Bhayandar Road, Mumbai',\n",
       "       'Ram Nagar, Delhi', 'Parel, Mumbai', 'Thanisandra, Bangalore',\n",
       "       'Pragathi Nagar, Hyderabad', 'Karamana, Thiruvananthapuram',\n",
       "       'AECS Layout, Bangalore', 'Nizamuddin East, Delhi',\n",
       "       'Ramanathapuram, Coimbatore', 'Anna Nagar, Chennai',\n",
       "       'Shenoy Nagar, Chennai', 'Siddhapudur, Coimbatore',\n",
       "       'Keshav Puram, Delhi', 'Edakochi, Ernakulam',\n",
       "       'Nagawara, Bangalore', 'Chintal, Hyderabad',\n",
       "       'Malviya Nagar, Delhi', 'Karwan, Hyderabad',\n",
       "       'Vazhakulam, Ernakulam', 'PMG Jn, Thiruvananthapuram',\n",
       "       'Dwarka Sector 6, Delhi', 'Viveknagar, Bangalore',\n",
       "       'Balapur, Hyderabad', 'Banashankari 2nd Stage, Bangalore',\n",
       "       'Azadpur, Delhi', 'Moti Nagar, Delhi', 'Sakinaka, Mumbai',\n",
       "       'Thoppumpady, Ernakulam', 'Sanath Nagar, Hyderabad',\n",
       "       'Royapettah, Chennai', 'Koramangala 5 Block, Bangalore',\n",
       "       'Kanjurmarg, Mumbai', 'Ernakulam College, Ernakulam',\n",
       "       'Urapakkam, Chennai', 'Coimbatore Ukkadam, Coimbatore',\n",
       "       'Sreekaryam, Thiruvananthapuram', 'Ernakulam North, Ernakulam',\n",
       "       'Sultanpur, Delhi', 'Banerji Road, Ernakulam',\n",
       "       'Balkampet, Hyderabad', 'Kavundampalayam, Coimbatore',\n",
       "       'Kanchanbagh, Hyderabad', 'Patel Nagar, Delhi', 'Kilokri, Delhi',\n",
       "       'Hoodi, Bangalore', 'New Seemapuri, Delhi',\n",
       "       'Seshadripuram, Bangalore', 'Vijaynagar, Delhi',\n",
       "       'Bowenpally, Hyderabad', 'Ondipudur, Coimbatore',\n",
       "       'Triplicane, Chennai', 'Richmond Town, Bangalore',\n",
       "       'New Rajendra Nagar, Delhi', 'Jahangirpuri, Delhi',\n",
       "       'Vivek Vihar, Delhi', 'Malleshpalya, Bangalore',\n",
       "       'Pezhakkappilly, Ernakulam', 'Lingampally, Hyderabad',\n",
       "       'Jamia Nagar, Delhi', 'Begum Bazar, Hyderabad',\n",
       "       'Lower Parel, Mumbai', 'ECR Road, Chennai', 'Nangloi, Delhi',\n",
       "       'Chintalmet, Hyderabad', 'West Of Chord Road, Bangalore',\n",
       "       'SV Road, Mumbai', 'JP Nagar 5 Phase, Bangalore',\n",
       "       'Sanjay Nagar, Bangalore', 'Panampilly Nagar, Ernakulam',\n",
       "       'Dharavi, Mumbai', 'Abbigere, Bangalore',\n",
       "       'Manacaud, Thiruvananthapuram', 'Poonamalle, Chennai',\n",
       "       'Najafgarh, Delhi', 'Uttarahalli, Bangalore', 'Sembakkam, Chennai',\n",
       "       'Tarnaka, Hyderabad', 'Nandanam, Chennai', 'Saidapet, Chennai',\n",
       "       'Choolaimedu, Chennai', 'Perungalathur, Chennai',\n",
       "       'Gulabi Bagh, Delhi', 'Jasola, Delhi',\n",
       "       'JP Nagar 3 Phase, Bangalore', 'Uppilipalayam, Coimbatore',\n",
       "       'Sadashivanagar, Bangalore', 'Rohini Sector 24, Delhi',\n",
       "       'Muvattupuzha, Ernakulam', 'Khan Market, Delhi',\n",
       "       'Abids, Hyderabad', 'Geeta Colony, Delhi', 'Madandapuram, Chennai',\n",
       "       'Dwarka Sector 22, Delhi', 'Grant Road, Mumbai',\n",
       "       'Jeedimetla, Hyderabad', 'Tambaram East, Chennai',\n",
       "       'Kothaguda, Hyderabad', 'Hauz Khas, Delhi', 'Habsiguda, Hyderabad',\n",
       "       'Breach Candy, Mumbai', 'Vidyanagar, Bangalore',\n",
       "       'Begur, Bangalore', 'Dahisar, Mumbai', 'Pachalam, Ernakulam',\n",
       "       'Perumbavoor, Ernakulam', 'Avadi, Chennai',\n",
       "       'Coimbatore Central, Coimbatore', 'Lokhandwala, Mumbai',\n",
       "       'Tiruvottiyur, Chennai', 'Ullal Upanagara, Bangalore',\n",
       "       'Perurkada, Thiruvananthapuram', 'Ashok Vihar Phase 3, Delhi',\n",
       "       'Walkeshwar, Mumbai', 'Saidabad, Hyderabad',\n",
       "       'Koramangala 6 Block, Bangalore', 'New Ashok Nagar, Delhi',\n",
       "       'Peddar Road, Mumbai', 'Aya Nagar, Delhi', 'JP Nagar, Bangalore',\n",
       "       'Sasthamangalam, Thiruvananthapuram', 'Yakutpura, Hyderabad',\n",
       "       'Sampangiramnagar, Bangalore', 'Kasturi nagar, Bangalore',\n",
       "       'Pallavaram, Chennai', 'Moti Bagh, Delhi',\n",
       "       'Mukherjee Nagar, Delhi', 'Byculla, Mumbai', 'Peeragarhi, Delhi',\n",
       "       'Amberpet, Hyderabad', 'JP Nagar 6 Phase, Bangalore',\n",
       "       'Sholinganallur, Chennai', 'Langford Road, Bangalore',\n",
       "       'Cumballa Hill, Mumbai', 'Colaba, Mumbai',\n",
       "       'Qutab Institutional Area, Delhi', 'Dommasandra, Bangalore',\n",
       "       'Malabar Hill, Mumbai', 'Koramangala 8 Block, Bangalore',\n",
       "       'Rohini Sector 22, Delhi', 'Lothkunta, Hyderabad',\n",
       "       'HAL 2nd Stage, Bangalore', 'Jayanagar 7 Block, Bangalore',\n",
       "       'Vadasserikonam, Thiruvananthapuram',\n",
       "       'East Marredpally, Hyderabad', 'Kelambakkam, Chennai',\n",
       "       'Chinchpokli, Mumbai', 'Delhi Cantt, Delhi',\n",
       "       'Padmanabhanagar, Bangalore', 'Sheikh Sarai, Delhi',\n",
       "       'Washermenpet, Chennai', 'Konanakunte, Bangalore',\n",
       "       'Ashok Vihar Phase 1, Delhi', 'Thirumala, Thiruvananthapuram',\n",
       "       'Sarjapura, Bangalore', 'JP Nagar 1 Phase, Bangalore',\n",
       "       'JB Nagar, Mumbai', 'Paruthippara, Thiruvananthapuram',\n",
       "       'Vikhroli, Mumbai', 'JP Nagar 8 Phase, Bangalore',\n",
       "       'GTB Nagar, Delhi', 'Vidyanagar, Hyderabad',\n",
       "       'Masab Tank, Hyderabad', 'Hafeezpet, Hyderabad',\n",
       "       'Jeevan Park, Delhi', 'Dwarka Sector 5, Delhi',\n",
       "       'Civil Lines, Delhi', 'Anand Niketan, Delhi',\n",
       "       'Pappanaickenpalayam, Coimbatore', 'Koovappady, Ernakulam',\n",
       "       'Dwarka, Sector 5, Delhi', 'Srirampuram, Bangalore',\n",
       "       'Korattur, Chennai', 'Pappanaickenpudur, Coimbatore',\n",
       "       'Gandhi Nagar, Delhi', 'Vignan Nagar, Bangalore',\n",
       "       'Ganganagar, Bangalore', 'Elamakkara, Ernakulam',\n",
       "       'Boduppal, Hyderabad', 'Tilak Nagar, Mumbai', 'Khetwadi, Mumbai',\n",
       "       'Kengeri, Bangalore', 'Sion East, Mumbai',\n",
       "       'Rohini Sector 6, Delhi', 'Kazhakuttam, Thiruvananthapuram',\n",
       "       'Goregaon, Mumbai', 'Peroor, Thiruvananthapuram',\n",
       "       'New Thippasandra, Bangalore', 'Jalahalli, Bangalore',\n",
       "       'King Koti, Hyderabad', 'Kallambalam, Thiruvananthapuram',\n",
       "       'Dwarka Sector 13, Delhi', 'Residency Road, Bangalore',\n",
       "       'Radhakrishnan Salai, Chennai', 'Hulimavu, Bangalore',\n",
       "       'Dasarahalli, Bangalore', 'Vileparle, Mumbai', 'Delhi, Delhi',\n",
       "       'Kachiguda, Hyderabad', 'Venkitapuram, Coimbatore',\n",
       "       'Kuniamuthur, Coimbatore', 'TV Chalai, Thiruvananthapuram',\n",
       "       'Serilingampally, Hyderabad', 'RMV 2nd Stage, Bangalore',\n",
       "       'Champapet, Hyderabad', 'Surya Niketan, Delhi',\n",
       "       'Kovilpalayam, Coimbatore', 'Nampally, Hyderabad',\n",
       "       'Siddapura, Bangalore', 'Neredmet, Hyderabad',\n",
       "       'Vellakinar, Coimbatore', 'Egmore, Chennai',\n",
       "       'Katwaria Sarai, Delhi', 'Navalur, Chennai', 'Mehrauli, Delhi',\n",
       "       'HBR Layout, Bangalore', 'Subhash Nagar, Delhi',\n",
       "       'Mallepally, Hyderabad', 'Eroor South, Ernakulam',\n",
       "       'Lajpat Nagar III, Delhi', 'Kodungaiyur, Chennai',\n",
       "       'Kuppakonanpudur, Coimbatore', 'Paradise, Hyderabad',\n",
       "       'Rohini Sector 4, Delhi', 'Koramangala 4 Block, Bangalore',\n",
       "       'Dwarka Sector 3, Delhi', 'Durga Puri, Delhi',\n",
       "       'Kalamassery, Ernakulam', 'Gulmohar Park, Delhi',\n",
       "       'Adugodi, Bangalore', 'Moti Nagar, Hyderabad',\n",
       "       'Nallagandla, Hyderabad', 'Gowrivakkam, Chennai',\n",
       "       'Periyar Nagar, Chennai', 'Austin Town, Bangalore',\n",
       "       'Afzalgunj, Hyderabad', 'Cotton Hill, Thiruvananthapuram',\n",
       "       'Goldwins, Coimbatore', 'Kuravankonam, Thiruvananthapuram',\n",
       "       'Rohini Sector 3, Delhi', 'Lado Sarai, Delhi',\n",
       "       'Koramangala 2 Block, Bangalore', 'Madangir, Delhi',\n",
       "       'Marine Drive, Mumbai', 'Marine Drive, Ernakulam',\n",
       "       'Angamaly, Ernakulam', 'Neelankarai, Chennai',\n",
       "       'Churchgate, Mumbai', 'Kalapatti, Coimbatore', 'Nand Nagri, Delhi',\n",
       "       'Kandivali, Mumbai', 'Madanpura, Mumbai', 'Hegde Nagar, Bangalore',\n",
       "       'Domalguda, Hyderabad', 'Mumbai Central, Mumbai',\n",
       "       'Vasanthnagar, Bangalore', 'Kapashera, Delhi',\n",
       "       'August Kranti Marg, Delhi', 'Krishna Nagar, Hyderabad',\n",
       "       'Lal baug, Mumbai', 'Perumathura, Thiruvananthapuram',\n",
       "       'Molarband, Delhi', 'Piravom, Ernakulam', 'Neeti Bagh, Delhi',\n",
       "       'Kishanbagh, Hyderabad', 'Shantinagar, Bangalore',\n",
       "       'Poojapura, Thiruvananthapuram', 'Rathinapuri, Coimbatore',\n",
       "       'Model Town 1, Delhi', 'Koothattukulam, Ernakulam',\n",
       "       'Anand Lok, Delhi', 'Pappanaickenpalayam West, Coimbatore',\n",
       "       'Subzi Mandi, Delhi', 'Sion, Mumbai', 'Nagole, Hyderabad',\n",
       "       'TVM Pettah, Thiruvananthapuram', 'Changampuzha Nagar, Ernakulam',\n",
       "       'Puzhal, Chennai', 'Vanchiyur, Thiruvananthapuram',\n",
       "       'Sukh Vihar, Delhi', 'Kovalam, Thiruvananthapuram',\n",
       "       'Swasthya Vihar, Delhi', 'Tardeo, Mumbai', 'Vishnu Garden, Delhi',\n",
       "       'Jayanagar 1 Block, Bangalore', 'Sion Koliwada, Mumbai',\n",
       "       'Marol, Mumbai', 'Kalkere, Bangalore', 'Sindhi Colony, Hyderabad',\n",
       "       'Silampur, Delhi', 'Varthur, Bangalore', 'Model Town 2, Delhi',\n",
       "       'Surajmal Vihar, Delhi', 'Chandni Chowk, Delhi',\n",
       "       'Veerakeralam, Coimbatore', 'T Dasarahalli, Bangalore',\n",
       "       'Kaggalipura, Bangalore', 'Thonnakkal, Thiruvananthapuram',\n",
       "       'Manjapra, Ernakulam', 'Yellareddyguda, Hyderabad',\n",
       "       'Kovilambakkam, Chennai', 'Broadway, Chennai',\n",
       "       'Podanur, Coimbatore', 'Kompally, Hyderabad',\n",
       "       'Kottivakkam, Chennai', 'Mansarover Garden, Delhi',\n",
       "       'Mandapeshwar, Mumbai', 'Rohini Sector 15, Delhi',\n",
       "       'Vaduthala, Ernakulam', 'Hebbal Kempapura, Bangalore',\n",
       "       'Sithalapakkam, Chennai', 'MKB Nagar, Chennai',\n",
       "       'MG Road, Hyderabad', 'Darya Ganj, Delhi',\n",
       "       'Venjaramoodu, Thiruvananthapuram', 'Kotturpuram, Chennai',\n",
       "       'Ramapuram, Chennai', 'Karmanghat, Hyderabad',\n",
       "       'Moula Ali, Hyderabad', 'Netaji Nagar, Delhi',\n",
       "       'Chandra Layout, Bangalore', 'Akshaya nagar, Bangalore',\n",
       "       'Nirman Vihar, Delhi', 'Vasant Enclave, Delhi',\n",
       "       'St Thomas Mount, Chennai', 'Royapuram, Chennai',\n",
       "       'Abhiramapuram, Chennai', 'Inder Puri, Delhi',\n",
       "       'Edayarpalayam, Coimbatore', 'Deoli, Delhi',\n",
       "       'Mulanthuruthy, Ernakulam', 'Sukhdev Vihar, Delhi', 'e',\n",
       "       'Kothamangalam, Ernakulam', 'Harlur, Bangalore',\n",
       "       'Bolarum, Hyderabad', 'Richards Town, Bangalore', 'Narela, Delhi',\n",
       "       'Nehru Place, Delhi', 'Ramanthapur, Hyderabad',\n",
       "       'Bali Nagar, Delhi', 'Palavakkam, Chennai', 'Balanagar, Hyderabad',\n",
       "       'Hyderguda, Hyderabad', 'Cherannagar, Coimbatore',\n",
       "       'Rohini Sector 11, Delhi', 'Dwarka Sector 4, Delhi',\n",
       "       'Palluruthy, Ernakulam', 'Vizhinjam, Thiruvananthapuram',\n",
       "       'Santacruz, Mumbai', 'Ganesh Nagar, Delhi',\n",
       "       'Vengal Rao Nagar, Hyderabad', 'Deonar, Mumbai',\n",
       "       'Edapally North, Ernakulam', 'Red Hills, Hyderabad',\n",
       "       'IDA Jeedimetla, Hyderabad', 'Mettupalayam, Coimbatore',\n",
       "       'Hayathnagar, Hyderabad', 'Kakkanad West, Ernakulam',\n",
       "       'Khajaguda, Hyderabad', 'Rohini Sector 5, Delhi',\n",
       "       'Saraswati Vihar, Delhi', 'Kingsway Camp, Delhi',\n",
       "       'Ramamangalam, Ernakulam', 'Indirapuram, Delhi',\n",
       "       'Parassala, Thiruvananthapuram', 'Connaught Place, Delhi',\n",
       "       'Gottigerre, Bangalore', 'Shivrampally, Hyderabad',\n",
       "       'Vyasarpadi, Chennai', 'Kovaipudur, Coimbatore',\n",
       "       'Vallakkadavoo, Thiruvananthapuram', 'Kattupakkam, Chennai',\n",
       "       'Nellimoodu, Thiruvananthapuram', 'Pondy Bazaar, Chennai',\n",
       "       'Prashant Vihar, Delhi', 'Chullickal, Ernakulam',\n",
       "       'Murugeshpalya, Bangalore', 'Khanpur, Delhi',\n",
       "       'Madiwala, Bangalore', 'Dwarka Sector 23, Delhi',\n",
       "       'Badarpur, Delhi', 'Peyad, Thiruvananthapuram',\n",
       "       'Gandhi Nagar, Chennai', 'Uday Park, Delhi',\n",
       "       'Bandlaguda, Hyderabad', 'Karukappilli, Ernakulam',\n",
       "       'Rana Pratap Bagh, Delhi', 'Kochi M.G.Road, Ernakulam',\n",
       "       'Gopalapuram, Chennai', 'Puthenvelikkara, Ernakulam',\n",
       "       'Sowcarpet, Chennai', 'Chitlapakkam, Chennai',\n",
       "       'Malumichampatti, Coimbatore', 'Rohini Sector 8, Delhi',\n",
       "       'Rohini Sector 2, Delhi', 'Ram Nagar, Hyderabad',\n",
       "       'Dwarka Sector 10, Delhi', 'Agaram, Chennai',\n",
       "       'Poovachal, Thiruvananthapuram', 'Shanti Niketan, Delhi',\n",
       "       'Pothencode, Thiruvananthapuram', 'Dickenson Road, Bangalore',\n",
       "       'RTC X Road, Hyderabad', 'Film Nagar, Hyderabad',\n",
       "       'Lodhi Colony, Delhi', 'SG Palya (Kormangla), Bangalore',\n",
       "       'Palkulangara, Thiruvananthapuram', 'Mahalingapuram, Chennai',\n",
       "       'Matunga West, Mumbai', 'Nettoor, Ernakulam', 'Rani Khera, Delhi',\n",
       "       'Beeramguda, Hyderabad', 'Ramachandrapuram, Hyderabad',\n",
       "       'Neyyattinkara Town, Thiruvananthapuram', 'Gorai, Mumbai',\n",
       "       'Jayanagar 3 Block, Bangalore', 'Shakti Nagar, Delhi',\n",
       "       'Sangam Vihar, Delhi', 'Shakurpur, Delhi',\n",
       "       'Chaitanyapuri, Hyderabad', 'TVM Fort, Thiruvananthapuram',\n",
       "       'JP Nagar 4 Phase, Bangalore', 'Nayandahalli, Bangalore',\n",
       "       'Valiathura, Thiruvananthapuram', 'Kowdiar, Thiruvananthapuram',\n",
       "       'Cunningham Road, Bangalore', 'Hennur, Bangalore',\n",
       "       'Peenya, Bangalore', 'Pattimattam, Ernakulam', 'HAL, Bangalore'],\n",
       "      dtype=object)"
      ]
     },
     "execution_count": 24,
     "metadata": {},
     "output_type": "execute_result"
    }
   ],
   "source": [
    "df['Place'].unique()"
   ]
  },
  {
   "cell_type": "code",
   "execution_count": 25,
   "metadata": {},
   "outputs": [
    {
     "data": {
      "text/plain": [
       "array(['Homeopath', 'Ayurveda', 'ENT Specialist', 'Dentist',\n",
       "       'General Medicine', 'Dermatologists'], dtype=object)"
      ]
     },
     "execution_count": 25,
     "metadata": {},
     "output_type": "execute_result"
    }
   ],
   "source": [
    "df['Profile'].unique()"
   ]
  },
  {
   "cell_type": "code",
   "execution_count": 26,
   "metadata": {},
   "outputs": [
    {
     "data": {
      "text/plain": [
       "array(['100% 16 Feedback Kakkanad, Ernakulam',\n",
       "       '98% 76 Feedback Whitefield, Bangalore', nan, ...,\n",
       "       '98% 45 Feedback Basavanagudi, Bangalore',\n",
       "       '97% 11 Feedback Greater Kailash Part 2, Delhi',\n",
       "       'General Medical Consultation Viral Fever Treatment Infectious Disease Treatment'],\n",
       "      dtype=object)"
      ]
     },
     "execution_count": 26,
     "metadata": {},
     "output_type": "execute_result"
    }
   ],
   "source": [
    "df['Miscellaneous_Info'].unique()"
   ]
  },
  {
   "cell_type": "code",
   "execution_count": 27,
   "metadata": {},
   "outputs": [
    {
     "data": {
      "text/html": [
       "<div>\n",
       "<style scoped>\n",
       "    .dataframe tbody tr th:only-of-type {\n",
       "        vertical-align: middle;\n",
       "    }\n",
       "\n",
       "    .dataframe tbody tr th {\n",
       "        vertical-align: top;\n",
       "    }\n",
       "\n",
       "    .dataframe thead th {\n",
       "        text-align: right;\n",
       "    }\n",
       "</style>\n",
       "<table border=\"1\" class=\"dataframe\">\n",
       "  <thead>\n",
       "    <tr style=\"text-align: right;\">\n",
       "      <th></th>\n",
       "      <th>Fees</th>\n",
       "    </tr>\n",
       "  </thead>\n",
       "  <tbody>\n",
       "    <tr>\n",
       "      <th>count</th>\n",
       "      <td>5961.000000</td>\n",
       "    </tr>\n",
       "    <tr>\n",
       "      <th>mean</th>\n",
       "      <td>307.944640</td>\n",
       "    </tr>\n",
       "    <tr>\n",
       "      <th>std</th>\n",
       "      <td>190.920373</td>\n",
       "    </tr>\n",
       "    <tr>\n",
       "      <th>min</th>\n",
       "      <td>5.000000</td>\n",
       "    </tr>\n",
       "    <tr>\n",
       "      <th>25%</th>\n",
       "      <td>150.000000</td>\n",
       "    </tr>\n",
       "    <tr>\n",
       "      <th>50%</th>\n",
       "      <td>300.000000</td>\n",
       "    </tr>\n",
       "    <tr>\n",
       "      <th>75%</th>\n",
       "      <td>500.000000</td>\n",
       "    </tr>\n",
       "    <tr>\n",
       "      <th>max</th>\n",
       "      <td>950.000000</td>\n",
       "    </tr>\n",
       "  </tbody>\n",
       "</table>\n",
       "</div>"
      ],
      "text/plain": [
       "              Fees\n",
       "count  5961.000000\n",
       "mean    307.944640\n",
       "std     190.920373\n",
       "min       5.000000\n",
       "25%     150.000000\n",
       "50%     300.000000\n",
       "75%     500.000000\n",
       "max     950.000000"
      ]
     },
     "execution_count": 27,
     "metadata": {},
     "output_type": "execute_result"
    }
   ],
   "source": [
    "df.describe()                            #statistics summary for numerical columns"
   ]
  },
  {
   "cell_type": "code",
   "execution_count": 28,
   "metadata": {},
   "outputs": [
    {
     "data": {
      "image/png": "[encoded data removed]",
      "text/plain": [
       "<Figure size 864x648 with 2 Axes>"
      ]
     },
     "metadata": {
      "needs_background": "light"
     },
     "output_type": "display_data"
    }
   ],
   "source": [
    "# Heatmap Display distribution of data across Null values\n",
    "plt.figure(figsize=(12,9))\n",
    "sns.heatmap(df.isnull())\n",
    "plt.title('Null Values')\n",
    "plt.show()"
   ]
  },
  {
   "cell_type": "code",
   "execution_count": 29,
   "metadata": {},
   "outputs": [
    {
     "data": {
      "text/plain": [
       "Qualification            0\n",
       "Experience               0\n",
       "Rating                3302\n",
       "Place                   25\n",
       "Profile                  0\n",
       "Miscellaneous_Info    2620\n",
       "Fees                     0\n",
       "dtype: int64"
      ]
     },
     "execution_count": 29,
     "metadata": {},
     "output_type": "execute_result"
    }
   ],
   "source": [
    "#Checking the null values in dataset\n",
    "df.isnull().sum()"
   ]
  },
  {
   "cell_type": "code",
   "execution_count": 30,
   "metadata": {},
   "outputs": [],
   "source": [
    "#filling the missing values for categorical terms by mode\n",
    "df['Rating']=df['Rating'].fillna(df['Rating'].mode()[0])\n",
    "df['Miscellaneous_Info']=df['Miscellaneous_Info'].fillna(df['Miscellaneous_Info'].mode()[0])\n",
    "df['Place']=df['Place'].fillna(df['Place'].mode()[0])"
   ]
  },
  {
   "cell_type": "code",
   "execution_count": 31,
   "metadata": {},
   "outputs": [
    {
     "data": {
      "text/plain": [
       "Qualification         0\n",
       "Experience            0\n",
       "Rating                0\n",
       "Place                 0\n",
       "Profile               0\n",
       "Miscellaneous_Info    0\n",
       "Fees                  0\n",
       "dtype: int64"
      ]
     },
     "execution_count": 31,
     "metadata": {},
     "output_type": "execute_result"
    }
   ],
   "source": [
    "df.isnull().sum()"
   ]
  },
  {
   "cell_type": "markdown",
   "metadata": {},
   "source": [
    "Converting all Object attributes into Numerical attributes by using LabelEncoder"
   ]
  },
  {
   "cell_type": "code",
   "execution_count": 32,
   "metadata": {},
   "outputs": [
    {
     "data": {
      "text/html": [
       "<div>\n",
       "<style scoped>\n",
       "    .dataframe tbody tr th:only-of-type {\n",
       "        vertical-align: middle;\n",
       "    }\n",
       "\n",
       "    .dataframe tbody tr th {\n",
       "        vertical-align: top;\n",
       "    }\n",
       "\n",
       "    .dataframe thead th {\n",
       "        text-align: right;\n",
       "    }\n",
       "</style>\n",
       "<table border=\"1\" class=\"dataframe\">\n",
       "  <thead>\n",
       "    <tr style=\"text-align: right;\">\n",
       "      <th></th>\n",
       "      <th>Qualification</th>\n",
       "      <th>Experience</th>\n",
       "      <th>Rating</th>\n",
       "      <th>Place</th>\n",
       "      <th>Profile</th>\n",
       "      <th>Miscellaneous_Info</th>\n",
       "      <th>Fees</th>\n",
       "    </tr>\n",
       "  </thead>\n",
       "  <tbody>\n",
       "    <tr>\n",
       "      <th>0</th>\n",
       "      <td>BHMS, MD - Homeopathy</td>\n",
       "      <td>24 years experience</td>\n",
       "      <td>100%</td>\n",
       "      <td>Kakkanad, Ernakulam</td>\n",
       "      <td>Homeopath</td>\n",
       "      <td>100% 16 Feedback Kakkanad, Ernakulam</td>\n",
       "      <td>100</td>\n",
       "    </tr>\n",
       "    <tr>\n",
       "      <th>1</th>\n",
       "      <td>BAMS, MD - Ayurveda Medicine</td>\n",
       "      <td>12 years experience</td>\n",
       "      <td>98%</td>\n",
       "      <td>Whitefield, Bangalore</td>\n",
       "      <td>Ayurveda</td>\n",
       "      <td>98% 76 Feedback Whitefield, Bangalore</td>\n",
       "      <td>350</td>\n",
       "    </tr>\n",
       "    <tr>\n",
       "      <th>2</th>\n",
       "      <td>MBBS, MS - Otorhinolaryngology</td>\n",
       "      <td>9 years experience</td>\n",
       "      <td>100%</td>\n",
       "      <td>Mathikere - BEL, Bangalore</td>\n",
       "      <td>ENT Specialist</td>\n",
       "      <td>Acrylic Partial Denture Crowns and Bridges Fix...</td>\n",
       "      <td>300</td>\n",
       "    </tr>\n",
       "    <tr>\n",
       "      <th>3</th>\n",
       "      <td>BSc - Zoology, BAMS</td>\n",
       "      <td>12 years experience</td>\n",
       "      <td>100%</td>\n",
       "      <td>Bannerghatta Road, Bangalore</td>\n",
       "      <td>Ayurveda</td>\n",
       "      <td>Bannerghatta Road, Bangalore ₹250 Available on...</td>\n",
       "      <td>250</td>\n",
       "    </tr>\n",
       "    <tr>\n",
       "      <th>4</th>\n",
       "      <td>BAMS</td>\n",
       "      <td>20 years experience</td>\n",
       "      <td>100%</td>\n",
       "      <td>Keelkattalai, Chennai</td>\n",
       "      <td>Ayurveda</td>\n",
       "      <td>100% 4 Feedback Keelkattalai, Chennai</td>\n",
       "      <td>250</td>\n",
       "    </tr>\n",
       "  </tbody>\n",
       "</table>\n",
       "</div>"
      ],
      "text/plain": [
       "                    Qualification           Experience Rating  \\\n",
       "0           BHMS, MD - Homeopathy  24 years experience   100%   \n",
       "1    BAMS, MD - Ayurveda Medicine  12 years experience    98%   \n",
       "2  MBBS, MS - Otorhinolaryngology   9 years experience   100%   \n",
       "3             BSc - Zoology, BAMS  12 years experience   100%   \n",
       "4                            BAMS  20 years experience   100%   \n",
       "\n",
       "                          Place         Profile  \\\n",
       "0           Kakkanad, Ernakulam       Homeopath   \n",
       "1         Whitefield, Bangalore        Ayurveda   \n",
       "2    Mathikere - BEL, Bangalore  ENT Specialist   \n",
       "3  Bannerghatta Road, Bangalore        Ayurveda   \n",
       "4         Keelkattalai, Chennai        Ayurveda   \n",
       "\n",
       "                                  Miscellaneous_Info  Fees  \n",
       "0               100% 16 Feedback Kakkanad, Ernakulam   100  \n",
       "1              98% 76 Feedback Whitefield, Bangalore   350  \n",
       "2  Acrylic Partial Denture Crowns and Bridges Fix...   300  \n",
       "3  Bannerghatta Road, Bangalore ₹250 Available on...   250  \n",
       "4              100% 4 Feedback Keelkattalai, Chennai   250  "
      ]
     },
     "execution_count": 32,
     "metadata": {},
     "output_type": "execute_result"
    }
   ],
   "source": [
    "df.head()"
   ]
  },
  {
   "cell_type": "code",
   "execution_count": 33,
   "metadata": {},
   "outputs": [],
   "source": [
    "from sklearn.preprocessing import LabelEncoder\n",
    "l=LabelEncoder()"
   ]
  },
  {
   "cell_type": "code",
   "execution_count": 34,
   "metadata": {},
   "outputs": [],
   "source": [
    "for i in df.columns:\n",
    "    if df[i].dtypes=='object':\n",
    "        df[i]=l.fit_transform(df[i].values)"
   ]
  },
  {
   "cell_type": "code",
   "execution_count": 35,
   "metadata": {},
   "outputs": [
    {
     "data": {
      "text/html": [
       "<div>\n",
       "<style scoped>\n",
       "    .dataframe tbody tr th:only-of-type {\n",
       "        vertical-align: middle;\n",
       "    }\n",
       "\n",
       "    .dataframe tbody tr th {\n",
       "        vertical-align: top;\n",
       "    }\n",
       "\n",
       "    .dataframe thead th {\n",
       "        text-align: right;\n",
       "    }\n",
       "</style>\n",
       "<table border=\"1\" class=\"dataframe\">\n",
       "  <thead>\n",
       "    <tr style=\"text-align: right;\">\n",
       "      <th></th>\n",
       "      <th>Qualification</th>\n",
       "      <th>Experience</th>\n",
       "      <th>Rating</th>\n",
       "      <th>Place</th>\n",
       "      <th>Profile</th>\n",
       "      <th>Miscellaneous_Info</th>\n",
       "      <th>Fees</th>\n",
       "    </tr>\n",
       "  </thead>\n",
       "  <tbody>\n",
       "    <tr>\n",
       "      <th>0</th>\n",
       "      <td>401</td>\n",
       "      <td>16</td>\n",
       "      <td>0</td>\n",
       "      <td>299</td>\n",
       "      <td>5</td>\n",
       "      <td>130</td>\n",
       "      <td>100</td>\n",
       "    </tr>\n",
       "    <tr>\n",
       "      <th>1</th>\n",
       "      <td>73</td>\n",
       "      <td>3</td>\n",
       "      <td>49</td>\n",
       "      <td>866</td>\n",
       "      <td>0</td>\n",
       "      <td>1422</td>\n",
       "      <td>350</td>\n",
       "    </tr>\n",
       "    <tr>\n",
       "      <th>2</th>\n",
       "      <td>1135</td>\n",
       "      <td>63</td>\n",
       "      <td>0</td>\n",
       "      <td>457</td>\n",
       "      <td>3</td>\n",
       "      <td>1595</td>\n",
       "      <td>300</td>\n",
       "    </tr>\n",
       "    <tr>\n",
       "      <th>3</th>\n",
       "      <td>464</td>\n",
       "      <td>3</td>\n",
       "      <td>0</td>\n",
       "      <td>68</td>\n",
       "      <td>0</td>\n",
       "      <td>1695</td>\n",
       "      <td>250</td>\n",
       "    </tr>\n",
       "    <tr>\n",
       "      <th>4</th>\n",
       "      <td>10</td>\n",
       "      <td>12</td>\n",
       "      <td>0</td>\n",
       "      <td>337</td>\n",
       "      <td>0</td>\n",
       "      <td>253</td>\n",
       "      <td>250</td>\n",
       "    </tr>\n",
       "  </tbody>\n",
       "</table>\n",
       "</div>"
      ],
      "text/plain": [
       "   Qualification  Experience  Rating  Place  Profile  Miscellaneous_Info  Fees\n",
       "0            401          16       0    299        5                 130   100\n",
       "1             73           3      49    866        0                1422   350\n",
       "2           1135          63       0    457        3                1595   300\n",
       "3            464           3       0     68        0                1695   250\n",
       "4             10          12       0    337        0                 253   250"
      ]
     },
     "execution_count": 35,
     "metadata": {},
     "output_type": "execute_result"
    }
   ],
   "source": [
    "df.head()"
   ]
  },
  {
   "cell_type": "code",
   "execution_count": 36,
   "metadata": {},
   "outputs": [
    {
     "data": {
      "text/html": [
       "<div>\n",
       "<style scoped>\n",
       "    .dataframe tbody tr th:only-of-type {\n",
       "        vertical-align: middle;\n",
       "    }\n",
       "\n",
       "    .dataframe tbody tr th {\n",
       "        vertical-align: top;\n",
       "    }\n",
       "\n",
       "    .dataframe thead th {\n",
       "        text-align: right;\n",
       "    }\n",
       "</style>\n",
       "<table border=\"1\" class=\"dataframe\">\n",
       "  <thead>\n",
       "    <tr style=\"text-align: right;\">\n",
       "      <th></th>\n",
       "      <th>Qualification</th>\n",
       "      <th>Experience</th>\n",
       "      <th>Rating</th>\n",
       "      <th>Place</th>\n",
       "      <th>Profile</th>\n",
       "      <th>Miscellaneous_Info</th>\n",
       "      <th>Fees</th>\n",
       "    </tr>\n",
       "  </thead>\n",
       "  <tbody>\n",
       "    <tr>\n",
       "      <th>count</th>\n",
       "      <td>5961.000000</td>\n",
       "      <td>5961.000000</td>\n",
       "      <td>5961.000000</td>\n",
       "      <td>5961.000000</td>\n",
       "      <td>5961.000000</td>\n",
       "      <td>5961.000000</td>\n",
       "      <td>5961.000000</td>\n",
       "    </tr>\n",
       "    <tr>\n",
       "      <th>mean</th>\n",
       "      <td>596.857574</td>\n",
       "      <td>23.010904</td>\n",
       "      <td>14.534139</td>\n",
       "      <td>414.368059</td>\n",
       "      <td>2.441872</td>\n",
       "      <td>1573.343902</td>\n",
       "      <td>307.944640</td>\n",
       "    </tr>\n",
       "    <tr>\n",
       "      <th>std</th>\n",
       "      <td>413.842446</td>\n",
       "      <td>20.937163</td>\n",
       "      <td>21.137633</td>\n",
       "      <td>258.547684</td>\n",
       "      <td>1.658014</td>\n",
       "      <td>640.388185</td>\n",
       "      <td>190.920373</td>\n",
       "    </tr>\n",
       "    <tr>\n",
       "      <th>min</th>\n",
       "      <td>0.000000</td>\n",
       "      <td>0.000000</td>\n",
       "      <td>0.000000</td>\n",
       "      <td>0.000000</td>\n",
       "      <td>0.000000</td>\n",
       "      <td>0.000000</td>\n",
       "      <td>5.000000</td>\n",
       "    </tr>\n",
       "    <tr>\n",
       "      <th>25%</th>\n",
       "      <td>219.000000</td>\n",
       "      <td>6.000000</td>\n",
       "      <td>0.000000</td>\n",
       "      <td>197.000000</td>\n",
       "      <td>1.000000</td>\n",
       "      <td>1477.000000</td>\n",
       "      <td>150.000000</td>\n",
       "    </tr>\n",
       "    <tr>\n",
       "      <th>50%</th>\n",
       "      <td>596.000000</td>\n",
       "      <td>15.000000</td>\n",
       "      <td>0.000000</td>\n",
       "      <td>407.000000</td>\n",
       "      <td>2.000000</td>\n",
       "      <td>1595.000000</td>\n",
       "      <td>300.000000</td>\n",
       "    </tr>\n",
       "    <tr>\n",
       "      <th>75%</th>\n",
       "      <td>943.000000</td>\n",
       "      <td>36.000000</td>\n",
       "      <td>42.000000</td>\n",
       "      <td>628.000000</td>\n",
       "      <td>4.000000</td>\n",
       "      <td>1746.000000</td>\n",
       "      <td>500.000000</td>\n",
       "    </tr>\n",
       "    <tr>\n",
       "      <th>max</th>\n",
       "      <td>1419.000000</td>\n",
       "      <td>63.000000</td>\n",
       "      <td>50.000000</td>\n",
       "      <td>876.000000</td>\n",
       "      <td>5.000000</td>\n",
       "      <td>2997.000000</td>\n",
       "      <td>950.000000</td>\n",
       "    </tr>\n",
       "  </tbody>\n",
       "</table>\n",
       "</div>"
      ],
      "text/plain": [
       "       Qualification   Experience       Rating        Place      Profile  \\\n",
       "count    5961.000000  5961.000000  5961.000000  5961.000000  5961.000000   \n",
       "mean      596.857574    23.010904    14.534139   414.368059     2.441872   \n",
       "std       413.842446    20.937163    21.137633   258.547684     1.658014   \n",
       "min         0.000000     0.000000     0.000000     0.000000     0.000000   \n",
       "25%       219.000000     6.000000     0.000000   197.000000     1.000000   \n",
       "50%       596.000000    15.000000     0.000000   407.000000     2.000000   \n",
       "75%       943.000000    36.000000    42.000000   628.000000     4.000000   \n",
       "max      1419.000000    63.000000    50.000000   876.000000     5.000000   \n",
       "\n",
       "       Miscellaneous_Info         Fees  \n",
       "count         5961.000000  5961.000000  \n",
       "mean          1573.343902   307.944640  \n",
       "std            640.388185   190.920373  \n",
       "min              0.000000     5.000000  \n",
       "25%           1477.000000   150.000000  \n",
       "50%           1595.000000   300.000000  \n",
       "75%           1746.000000   500.000000  \n",
       "max           2997.000000   950.000000  "
      ]
     },
     "execution_count": 36,
     "metadata": {},
     "output_type": "execute_result"
    }
   ],
   "source": [
    "df.describe()"
   ]
  },
  {
   "cell_type": "code",
   "execution_count": 37,
   "metadata": {},
   "outputs": [
    {
     "data": {
      "text/plain": [
       "<AxesSubplot:>"
      ]
     },
     "execution_count": 37,
     "metadata": {},
     "output_type": "execute_result"
    },
    {
     "data": {
      "image/png": "[encoded data removed]",
      "text/plain": [
       "<Figure size 1440x720 with 2 Axes>"
      ]
     },
     "metadata": {
      "needs_background": "light"
     },
     "output_type": "display_data"
    }
   ],
   "source": [
    "# Heatmap Display distribution of data across all level of category.\n",
    "plt.figure(figsize=(20,10))\n",
    "sns.heatmap(df.describe(),annot=True,linewidths=0.1,linecolor='black',fmt='0.2f')"
   ]
  },
  {
   "cell_type": "markdown",
   "metadata": {},
   "source": [
    "# Correlation Matrix"
   ]
  },
  {
   "cell_type": "code",
   "execution_count": 38,
   "metadata": {},
   "outputs": [
    {
     "data": {
      "text/html": [
       "<div>\n",
       "<style scoped>\n",
       "    .dataframe tbody tr th:only-of-type {\n",
       "        vertical-align: middle;\n",
       "    }\n",
       "\n",
       "    .dataframe tbody tr th {\n",
       "        vertical-align: top;\n",
       "    }\n",
       "\n",
       "    .dataframe thead th {\n",
       "        text-align: right;\n",
       "    }\n",
       "</style>\n",
       "<table border=\"1\" class=\"dataframe\">\n",
       "  <thead>\n",
       "    <tr style=\"text-align: right;\">\n",
       "      <th></th>\n",
       "      <th>Qualification</th>\n",
       "      <th>Experience</th>\n",
       "      <th>Rating</th>\n",
       "      <th>Place</th>\n",
       "      <th>Profile</th>\n",
       "      <th>Miscellaneous_Info</th>\n",
       "      <th>Fees</th>\n",
       "    </tr>\n",
       "  </thead>\n",
       "  <tbody>\n",
       "    <tr>\n",
       "      <th>Qualification</th>\n",
       "      <td>1.000000</td>\n",
       "      <td>0.003325</td>\n",
       "      <td>0.055188</td>\n",
       "      <td>0.006640</td>\n",
       "      <td>0.393123</td>\n",
       "      <td>-0.132786</td>\n",
       "      <td>0.263214</td>\n",
       "    </tr>\n",
       "    <tr>\n",
       "      <th>Experience</th>\n",
       "      <td>0.003325</td>\n",
       "      <td>1.000000</td>\n",
       "      <td>-0.139696</td>\n",
       "      <td>0.001328</td>\n",
       "      <td>-0.032711</td>\n",
       "      <td>0.035956</td>\n",
       "      <td>-0.048529</td>\n",
       "    </tr>\n",
       "    <tr>\n",
       "      <th>Rating</th>\n",
       "      <td>0.055188</td>\n",
       "      <td>-0.139696</td>\n",
       "      <td>1.000000</td>\n",
       "      <td>-0.031150</td>\n",
       "      <td>-0.101605</td>\n",
       "      <td>-0.077996</td>\n",
       "      <td>0.141853</td>\n",
       "    </tr>\n",
       "    <tr>\n",
       "      <th>Place</th>\n",
       "      <td>0.006640</td>\n",
       "      <td>0.001328</td>\n",
       "      <td>-0.031150</td>\n",
       "      <td>1.000000</td>\n",
       "      <td>0.019529</td>\n",
       "      <td>0.027901</td>\n",
       "      <td>-0.052505</td>\n",
       "    </tr>\n",
       "    <tr>\n",
       "      <th>Profile</th>\n",
       "      <td>0.393123</td>\n",
       "      <td>-0.032711</td>\n",
       "      <td>-0.101605</td>\n",
       "      <td>0.019529</td>\n",
       "      <td>1.000000</td>\n",
       "      <td>-0.155324</td>\n",
       "      <td>0.145226</td>\n",
       "    </tr>\n",
       "    <tr>\n",
       "      <th>Miscellaneous_Info</th>\n",
       "      <td>-0.132786</td>\n",
       "      <td>0.035956</td>\n",
       "      <td>-0.077996</td>\n",
       "      <td>0.027901</td>\n",
       "      <td>-0.155324</td>\n",
       "      <td>1.000000</td>\n",
       "      <td>-0.060713</td>\n",
       "    </tr>\n",
       "    <tr>\n",
       "      <th>Fees</th>\n",
       "      <td>0.263214</td>\n",
       "      <td>-0.048529</td>\n",
       "      <td>0.141853</td>\n",
       "      <td>-0.052505</td>\n",
       "      <td>0.145226</td>\n",
       "      <td>-0.060713</td>\n",
       "      <td>1.000000</td>\n",
       "    </tr>\n",
       "  </tbody>\n",
       "</table>\n",
       "</div>"
      ],
      "text/plain": [
       "                    Qualification  Experience    Rating     Place   Profile  \\\n",
       "Qualification            1.000000    0.003325  0.055188  0.006640  0.393123   \n",
       "Experience               0.003325    1.000000 -0.139696  0.001328 -0.032711   \n",
       "Rating                   0.055188   -0.139696  1.000000 -0.031150 -0.101605   \n",
       "Place                    0.006640    0.001328 -0.031150  1.000000  0.019529   \n",
       "Profile                  0.393123   -0.032711 -0.101605  0.019529  1.000000   \n",
       "Miscellaneous_Info      -0.132786    0.035956 -0.077996  0.027901 -0.155324   \n",
       "Fees                     0.263214   -0.048529  0.141853 -0.052505  0.145226   \n",
       "\n",
       "                    Miscellaneous_Info      Fees  \n",
       "Qualification                -0.132786  0.263214  \n",
       "Experience                    0.035956 -0.048529  \n",
       "Rating                       -0.077996  0.141853  \n",
       "Place                         0.027901 -0.052505  \n",
       "Profile                      -0.155324  0.145226  \n",
       "Miscellaneous_Info            1.000000 -0.060713  \n",
       "Fees                         -0.060713  1.000000  "
      ]
     },
     "execution_count": 38,
     "metadata": {},
     "output_type": "execute_result"
    }
   ],
   "source": [
    "dfcor=df.corr()                                       # Check the correlation of datasets\n",
    "dfcor "
   ]
  },
  {
   "cell_type": "code",
   "execution_count": 39,
   "metadata": {},
   "outputs": [
    {
     "data": {
      "text/plain": [
       "<AxesSubplot:>"
      ]
     },
     "execution_count": 39,
     "metadata": {},
     "output_type": "execute_result"
    },
    {
     "data": {
      "image/png": "[encoded data removed]",
      "text/plain": [
       "<Figure size 1440x720 with 2 Axes>"
      ]
     },
     "metadata": {
      "needs_background": "light"
     },
     "output_type": "display_data"
    }
   ],
   "source": [
    "# Heatmap Display distribution of data across all level of category.\n",
    "plt.figure(figsize=(20,10))\n",
    "sns.heatmap(dfcor,annot=True,linewidths=0.1,linecolor='black',fmt='0.2f')"
   ]
  },
  {
   "cell_type": "markdown",
   "metadata": {},
   "source": [
    "# Removing Outliers from the Dataset"
   ]
  },
  {
   "cell_type": "code",
   "execution_count": 40,
   "metadata": {},
   "outputs": [
    {
     "data": {
      "image/png": "[encoded data removed]",
      "text/plain": [
       "<Figure size 1440x360 with 1 Axes>"
      ]
     },
     "metadata": {
      "needs_background": "light"
     },
     "output_type": "display_data"
    }
   ],
   "source": [
    "# Boxplot Display distribution of data across all level of category.\n",
    "df.boxplot(figsize=[20,5])\n",
    "plt.subplots_adjust(bottom=0.25)\n",
    "plt.show()"
   ]
  },
  {
   "cell_type": "code",
   "execution_count": 41,
   "metadata": {},
   "outputs": [],
   "source": [
    "from scipy.stats import zscore"
   ]
  },
  {
   "cell_type": "code",
   "execution_count": 42,
   "metadata": {},
   "outputs": [
    {
     "data": {
      "text/plain": [
       "array([[4.73305738e-01, 3.34882629e-01, 6.87653037e-01, ...,\n",
       "        1.54301587e+00, 2.25404687e+00, 1.08926083e+00],\n",
       "       [1.26594438e+00, 9.55840219e-01, 1.63068173e+00, ...,\n",
       "        1.47289258e+00, 2.36351328e-01, 2.20295441e-01],\n",
       "       [1.30046489e+00, 1.91011789e+00, 6.87653037e-01, ...,\n",
       "        3.36652489e-01, 3.38199785e-02, 4.16158134e-02],\n",
       "       ...,\n",
       "       [2.07239780e-03, 5.72670771e-01, 1.58336878e+00, ...,\n",
       "        9.39834180e-01, 6.25210608e-01, 1.52985171e+00],\n",
       "       [8.36481290e-01, 8.12542314e-01, 1.25217810e+00, ...,\n",
       "        9.39834180e-01, 9.81762078e-01, 1.08926083e+00],\n",
       "       [8.55125573e-01, 7.17010377e-01, 6.87653037e-01, ...,\n",
       "        8.69710893e-01, 3.38199785e-02, 5.65438323e-01]])"
      ]
     },
     "execution_count": 42,
     "metadata": {},
     "output_type": "execute_result"
    }
   ],
   "source": [
    "z=np.abs(zscore(df))\n",
    "z"
   ]
  },
  {
   "cell_type": "code",
   "execution_count": 43,
   "metadata": {},
   "outputs": [
    {
     "data": {
      "text/html": [
       "<div>\n",
       "<style scoped>\n",
       "    .dataframe tbody tr th:only-of-type {\n",
       "        vertical-align: middle;\n",
       "    }\n",
       "\n",
       "    .dataframe tbody tr th {\n",
       "        vertical-align: top;\n",
       "    }\n",
       "\n",
       "    .dataframe thead th {\n",
       "        text-align: right;\n",
       "    }\n",
       "</style>\n",
       "<table border=\"1\" class=\"dataframe\">\n",
       "  <thead>\n",
       "    <tr style=\"text-align: right;\">\n",
       "      <th></th>\n",
       "      <th>Qualification</th>\n",
       "      <th>Experience</th>\n",
       "      <th>Rating</th>\n",
       "      <th>Place</th>\n",
       "      <th>Profile</th>\n",
       "      <th>Miscellaneous_Info</th>\n",
       "      <th>Fees</th>\n",
       "    </tr>\n",
       "  </thead>\n",
       "  <tbody>\n",
       "    <tr>\n",
       "      <th>0</th>\n",
       "      <td>401</td>\n",
       "      <td>16</td>\n",
       "      <td>0</td>\n",
       "      <td>299</td>\n",
       "      <td>5</td>\n",
       "      <td>130</td>\n",
       "      <td>100</td>\n",
       "    </tr>\n",
       "    <tr>\n",
       "      <th>1</th>\n",
       "      <td>73</td>\n",
       "      <td>3</td>\n",
       "      <td>49</td>\n",
       "      <td>866</td>\n",
       "      <td>0</td>\n",
       "      <td>1422</td>\n",
       "      <td>350</td>\n",
       "    </tr>\n",
       "    <tr>\n",
       "      <th>2</th>\n",
       "      <td>1135</td>\n",
       "      <td>63</td>\n",
       "      <td>0</td>\n",
       "      <td>457</td>\n",
       "      <td>3</td>\n",
       "      <td>1595</td>\n",
       "      <td>300</td>\n",
       "    </tr>\n",
       "    <tr>\n",
       "      <th>3</th>\n",
       "      <td>464</td>\n",
       "      <td>3</td>\n",
       "      <td>0</td>\n",
       "      <td>68</td>\n",
       "      <td>0</td>\n",
       "      <td>1695</td>\n",
       "      <td>250</td>\n",
       "    </tr>\n",
       "    <tr>\n",
       "      <th>4</th>\n",
       "      <td>10</td>\n",
       "      <td>12</td>\n",
       "      <td>0</td>\n",
       "      <td>337</td>\n",
       "      <td>0</td>\n",
       "      <td>253</td>\n",
       "      <td>250</td>\n",
       "    </tr>\n",
       "  </tbody>\n",
       "</table>\n",
       "</div>"
      ],
      "text/plain": [
       "   Qualification  Experience  Rating  Place  Profile  Miscellaneous_Info  Fees\n",
       "0            401          16       0    299        5                 130   100\n",
       "1             73           3      49    866        0                1422   350\n",
       "2           1135          63       0    457        3                1595   300\n",
       "3            464           3       0     68        0                1695   250\n",
       "4             10          12       0    337        0                 253   250"
      ]
     },
     "execution_count": 43,
     "metadata": {},
     "output_type": "execute_result"
    }
   ],
   "source": [
    "df_new=df[(z<3).all(axis=1)]\n",
    "df_new.head()"
   ]
  },
  {
   "cell_type": "code",
   "execution_count": 44,
   "metadata": {},
   "outputs": [
    {
     "data": {
      "text/plain": [
       "(5961, 7)"
      ]
     },
     "execution_count": 44,
     "metadata": {},
     "output_type": "execute_result"
    }
   ],
   "source": [
    "df.shape"
   ]
  },
  {
   "cell_type": "code",
   "execution_count": 45,
   "metadata": {},
   "outputs": [
    {
     "data": {
      "text/plain": [
       "(5941, 7)"
      ]
     },
     "execution_count": 45,
     "metadata": {},
     "output_type": "execute_result"
    }
   ],
   "source": [
    "df_new.shape"
   ]
  },
  {
   "cell_type": "code",
   "execution_count": 46,
   "metadata": {},
   "outputs": [
    {
     "data": {
      "text/plain": [
       "0.33551417547391377"
      ]
     },
     "execution_count": 46,
     "metadata": {},
     "output_type": "execute_result"
    }
   ],
   "source": [
    "Data_loss=((5961-5941)/5961*100)\n",
    "Data_loss"
   ]
  },
  {
   "cell_type": "markdown",
   "metadata": {},
   "source": [
    "# Checking Skewness of the dataset"
   ]
  },
  {
   "cell_type": "code",
   "execution_count": 47,
   "metadata": {},
   "outputs": [
    {
     "data": {
      "text/plain": [
       "Qualification         0.239720\n",
       "Experience            0.823531\n",
       "Rating                0.817666\n",
       "Place                 0.124862\n",
       "Profile               0.108803\n",
       "Miscellaneous_Info   -0.218459\n",
       "Fees                  0.751870\n",
       "dtype: float64"
      ]
     },
     "execution_count": 47,
     "metadata": {},
     "output_type": "execute_result"
    }
   ],
   "source": [
    "df.skew()"
   ]
  },
  {
   "cell_type": "code",
   "execution_count": 48,
   "metadata": {},
   "outputs": [],
   "source": [
    "x= df.drop('Fees',axis=1)\n",
    "y= df['Fees']"
   ]
  },
  {
   "cell_type": "code",
   "execution_count": 49,
   "metadata": {},
   "outputs": [],
   "source": [
    "from sklearn.preprocessing import power_transform\n",
    "df_new=power_transform(x)\n",
    "\n",
    "df_new=pd.DataFrame(df_new,columns=x.columns)"
   ]
  },
  {
   "cell_type": "code",
   "execution_count": 50,
   "metadata": {},
   "outputs": [
    {
     "data": {
      "text/plain": [
       "Qualification        -0.298616\n",
       "Experience           -0.066770\n",
       "Rating                0.721289\n",
       "Place                -0.263388\n",
       "Profile              -0.139151\n",
       "Miscellaneous_Info   -0.133335\n",
       "dtype: float64"
      ]
     },
     "execution_count": 50,
     "metadata": {},
     "output_type": "execute_result"
    }
   ],
   "source": [
    "df_new.skew()"
   ]
  },
  {
   "cell_type": "code",
   "execution_count": 51,
   "metadata": {},
   "outputs": [
    {
     "data": {
      "text/html": [
       "<div>\n",
       "<style scoped>\n",
       "    .dataframe tbody tr th:only-of-type {\n",
       "        vertical-align: middle;\n",
       "    }\n",
       "\n",
       "    .dataframe tbody tr th {\n",
       "        vertical-align: top;\n",
       "    }\n",
       "\n",
       "    .dataframe thead th {\n",
       "        text-align: right;\n",
       "    }\n",
       "</style>\n",
       "<table border=\"1\" class=\"dataframe\">\n",
       "  <thead>\n",
       "    <tr style=\"text-align: right;\">\n",
       "      <th></th>\n",
       "      <th>Qualification</th>\n",
       "      <th>Experience</th>\n",
       "      <th>Rating</th>\n",
       "      <th>Place</th>\n",
       "      <th>Profile</th>\n",
       "      <th>Miscellaneous_Info</th>\n",
       "    </tr>\n",
       "  </thead>\n",
       "  <tbody>\n",
       "    <tr>\n",
       "      <th>0</th>\n",
       "      <td>-0.268192</td>\n",
       "      <td>0.031850</td>\n",
       "      <td>-0.703279</td>\n",
       "      <td>-0.298729</td>\n",
       "      <td>1.420559</td>\n",
       "      <td>-2.200692</td>\n",
       "    </tr>\n",
       "    <tr>\n",
       "      <th>1</th>\n",
       "      <td>-1.399319</td>\n",
       "      <td>-1.202914</td>\n",
       "      <td>1.444229</td>\n",
       "      <td>1.521043</td>\n",
       "      <td>-1.644145</td>\n",
       "      <td>-0.249736</td>\n",
       "    </tr>\n",
       "    <tr>\n",
       "      <th>2</th>\n",
       "      <td>1.173386</td>\n",
       "      <td>1.479654</td>\n",
       "      <td>-0.703279</td>\n",
       "      <td>0.286121</td>\n",
       "      <td>0.418830</td>\n",
       "      <td>0.022175</td>\n",
       "    </tr>\n",
       "    <tr>\n",
       "      <th>3</th>\n",
       "      <td>-0.112357</td>\n",
       "      <td>-1.202914</td>\n",
       "      <td>-0.703279</td>\n",
       "      <td>-1.457929</td>\n",
       "      <td>-1.644145</td>\n",
       "      <td>0.180028</td>\n",
       "    </tr>\n",
       "    <tr>\n",
       "      <th>4</th>\n",
       "      <td>-1.876273</td>\n",
       "      <td>-0.221760</td>\n",
       "      <td>-0.703279</td>\n",
       "      <td>-0.149246</td>\n",
       "      <td>-1.644145</td>\n",
       "      <td>-2.026279</td>\n",
       "    </tr>\n",
       "  </tbody>\n",
       "</table>\n",
       "</div>"
      ],
      "text/plain": [
       "   Qualification  Experience    Rating     Place   Profile  Miscellaneous_Info\n",
       "0      -0.268192    0.031850 -0.703279 -0.298729  1.420559           -2.200692\n",
       "1      -1.399319   -1.202914  1.444229  1.521043 -1.644145           -0.249736\n",
       "2       1.173386    1.479654 -0.703279  0.286121  0.418830            0.022175\n",
       "3      -0.112357   -1.202914 -0.703279 -1.457929 -1.644145            0.180028\n",
       "4      -1.876273   -0.221760 -0.703279 -0.149246 -1.644145           -2.026279"
      ]
     },
     "execution_count": 51,
     "metadata": {},
     "output_type": "execute_result"
    }
   ],
   "source": [
    "x=df_new\n",
    "x.head()"
   ]
  },
  {
   "cell_type": "markdown",
   "metadata": {},
   "source": [
    "# Linear Regression Model"
   ]
  },
  {
   "cell_type": "code",
   "execution_count": 52,
   "metadata": {},
   "outputs": [],
   "source": [
    "from sklearn.linear_model import LinearRegression\n",
    "lr=LinearRegression()\n",
    "from sklearn.metrics import r2_score\n",
    "from sklearn.metrics import mean_squared_error\n",
    "from sklearn.metrics import mean_absolute_error\n",
    "from sklearn.model_selection import train_test_split"
   ]
  },
  {
   "cell_type": "code",
   "execution_count": 53,
   "metadata": {},
   "outputs": [
    {
     "name": "stdout",
     "output_type": "stream",
     "text": [
      "At random state 0,the training accuracy is:0.0922932894296622\n",
      "At random state 0,the testing accuracy is:0.1021042351078214\n",
      "\n",
      "\n",
      "At random state 1,the training accuracy is:0.0899708339344224\n",
      "At random state 1,the testing accuracy is:0.10978162997972551\n",
      "\n",
      "\n",
      "At random state 2,the training accuracy is:0.10187258243689146\n",
      "At random state 2,the testing accuracy is:0.08436907896220791\n",
      "\n",
      "\n",
      "At random state 3,the training accuracy is:0.10640957120653793\n",
      "At random state 3,the testing accuracy is:0.07618924692907836\n",
      "\n",
      "\n",
      "At random state 4,the training accuracy is:0.09726077557870161\n",
      "At random state 4,the testing accuracy is:0.09438939596235296\n",
      "\n",
      "\n",
      "At random state 5,the training accuracy is:0.10618329507627133\n",
      "At random state 5,the testing accuracy is:0.07583041912552091\n",
      "\n",
      "\n",
      "At random state 6,the training accuracy is:0.09664812241910625\n",
      "At random state 6,the testing accuracy is:0.09374721429937516\n",
      "\n",
      "\n",
      "At random state 7,the training accuracy is:0.10983591347593513\n",
      "At random state 7,the testing accuracy is:0.062052701816049716\n",
      "\n",
      "\n",
      "At random state 8,the training accuracy is:0.09572681568632124\n",
      "At random state 8,the testing accuracy is:0.09622066219472081\n",
      "\n",
      "\n",
      "At random state 9,the training accuracy is:0.10629092316318578\n",
      "At random state 9,the testing accuracy is:0.07521609461469347\n",
      "\n",
      "\n"
     ]
    }
   ],
   "source": [
    "for i in range(0,10):\n",
    "    x_train,x_test,y_train,y_test=train_test_split(x,y,test_size=0.33,random_state=i)\n",
    "    lr.fit(x_train,y_train)\n",
    "    pred_train=lr.predict(x_train)\n",
    "    pred_test=lr.predict(x_test)\n",
    "    print(f'At random state {i},the training accuracy is:{r2_score(y_train,pred_train)}')\n",
    "    print(f'At random state {i},the testing accuracy is:{r2_score(y_test,pred_test)}')\n",
    "    print('\\n')"
   ]
  },
  {
   "cell_type": "code",
   "execution_count": 54,
   "metadata": {},
   "outputs": [
    {
     "data": {
      "text/plain": [
       "LinearRegression()"
      ]
     },
     "execution_count": 54,
     "metadata": {},
     "output_type": "execute_result"
    }
   ],
   "source": [
    "x_train,x_test,y_train,y_test=train_test_split(x,y,test_size=0.7,random_state=0)\n",
    "lr.fit(x_train,y_train)"
   ]
  },
  {
   "cell_type": "code",
   "execution_count": 55,
   "metadata": {},
   "outputs": [
    {
     "name": "stdout",
     "output_type": "stream",
     "text": [
      "304.8870947611461\n"
     ]
    }
   ],
   "source": [
    "print(lr.intercept_)"
   ]
  },
  {
   "cell_type": "code",
   "execution_count": 56,
   "metadata": {},
   "outputs": [
    {
     "data": {
      "text/html": [
       "<div>\n",
       "<style scoped>\n",
       "    .dataframe tbody tr th:only-of-type {\n",
       "        vertical-align: middle;\n",
       "    }\n",
       "\n",
       "    .dataframe tbody tr th {\n",
       "        vertical-align: top;\n",
       "    }\n",
       "\n",
       "    .dataframe thead th {\n",
       "        text-align: right;\n",
       "    }\n",
       "</style>\n",
       "<table border=\"1\" class=\"dataframe\">\n",
       "  <thead>\n",
       "    <tr style=\"text-align: right;\">\n",
       "      <th></th>\n",
       "      <th>Co-efficient</th>\n",
       "    </tr>\n",
       "  </thead>\n",
       "  <tbody>\n",
       "    <tr>\n",
       "      <th>Qualification</th>\n",
       "      <td>39.302002</td>\n",
       "    </tr>\n",
       "    <tr>\n",
       "      <th>Experience</th>\n",
       "      <td>-0.384047</td>\n",
       "    </tr>\n",
       "    <tr>\n",
       "      <th>Rating</th>\n",
       "      <td>30.069772</td>\n",
       "    </tr>\n",
       "    <tr>\n",
       "      <th>Place</th>\n",
       "      <td>-5.166654</td>\n",
       "    </tr>\n",
       "    <tr>\n",
       "      <th>Profile</th>\n",
       "      <td>16.612847</td>\n",
       "    </tr>\n",
       "    <tr>\n",
       "      <th>Miscellaneous_Info</th>\n",
       "      <td>3.218462</td>\n",
       "    </tr>\n",
       "  </tbody>\n",
       "</table>\n",
       "</div>"
      ],
      "text/plain": [
       "                    Co-efficient\n",
       "Qualification          39.302002\n",
       "Experience             -0.384047\n",
       "Rating                 30.069772\n",
       "Place                  -5.166654\n",
       "Profile                16.612847\n",
       "Miscellaneous_Info      3.218462"
      ]
     },
     "execution_count": 56,
     "metadata": {},
     "output_type": "execute_result"
    }
   ],
   "source": [
    "coeff_df=pd.DataFrame(lr.coef_,x.columns,columns=['Co-efficient'])\n",
    "coeff_df"
   ]
  },
  {
   "cell_type": "code",
   "execution_count": 57,
   "metadata": {},
   "outputs": [],
   "source": [
    "y_pred=lr.predict(x_test)"
   ]
  },
  {
   "cell_type": "code",
   "execution_count": 58,
   "metadata": {},
   "outputs": [
    {
     "data": {
      "text/html": [
       "<div>\n",
       "<style scoped>\n",
       "    .dataframe tbody tr th:only-of-type {\n",
       "        vertical-align: middle;\n",
       "    }\n",
       "\n",
       "    .dataframe tbody tr th {\n",
       "        vertical-align: top;\n",
       "    }\n",
       "\n",
       "    .dataframe thead th {\n",
       "        text-align: right;\n",
       "    }\n",
       "</style>\n",
       "<table border=\"1\" class=\"dataframe\">\n",
       "  <thead>\n",
       "    <tr style=\"text-align: right;\">\n",
       "      <th></th>\n",
       "      <th>Actual</th>\n",
       "      <th>Predicted</th>\n",
       "    </tr>\n",
       "  </thead>\n",
       "  <tbody>\n",
       "    <tr>\n",
       "      <th>1398</th>\n",
       "      <td>300</td>\n",
       "      <td>175.530475</td>\n",
       "    </tr>\n",
       "    <tr>\n",
       "      <th>4310</th>\n",
       "      <td>500</td>\n",
       "      <td>287.779785</td>\n",
       "    </tr>\n",
       "    <tr>\n",
       "      <th>2455</th>\n",
       "      <td>250</td>\n",
       "      <td>279.925307</td>\n",
       "    </tr>\n",
       "    <tr>\n",
       "      <th>2285</th>\n",
       "      <td>800</td>\n",
       "      <td>318.831873</td>\n",
       "    </tr>\n",
       "    <tr>\n",
       "      <th>3891</th>\n",
       "      <td>100</td>\n",
       "      <td>177.461721</td>\n",
       "    </tr>\n",
       "  </tbody>\n",
       "</table>\n",
       "</div>"
      ],
      "text/plain": [
       "      Actual   Predicted\n",
       "1398     300  175.530475\n",
       "4310     500  287.779785\n",
       "2455     250  279.925307\n",
       "2285     800  318.831873\n",
       "3891     100  177.461721"
      ]
     },
     "execution_count": 58,
     "metadata": {},
     "output_type": "execute_result"
    }
   ],
   "source": [
    "df=pd.DataFrame({'Actual':y_test,'Predicted':y_pred})\n",
    "df.head()"
   ]
  },
  {
   "cell_type": "code",
   "execution_count": 59,
   "metadata": {},
   "outputs": [
    {
     "name": "stdout",
     "output_type": "stream",
     "text": [
      "error:\n",
      "Mean absolute error: 147.00107549042383\n",
      "Mean squared error: 32954.39924075868\n",
      "Root mean squared error: 181.53346589749967\n"
     ]
    }
   ],
   "source": [
    "print(\"error:\")\n",
    "print(\"Mean absolute error:\",mean_absolute_error(y_test,y_pred))\n",
    "print(\"Mean squared error:\",mean_squared_error(y_test,y_pred))\n",
    "print(\"Root mean squared error:\",np.sqrt(mean_squared_error(y_test,y_pred)))"
   ]
  },
  {
   "cell_type": "code",
   "execution_count": 60,
   "metadata": {},
   "outputs": [
    {
     "name": "stdout",
     "output_type": "stream",
     "text": [
      "9.398537867717248\n"
     ]
    }
   ],
   "source": [
    "predict_test=lr.predict(x_test)\n",
    "print(r2_score(y_test,predict_test)*100)"
   ]
  },
  {
   "cell_type": "code",
   "execution_count": 61,
   "metadata": {},
   "outputs": [
    {
     "name": "stdout",
     "output_type": "stream",
     "text": [
      "9.416001549305397\n"
     ]
    }
   ],
   "source": [
    "predict_train=lr.predict(x_train)\n",
    "print(r2_score(y_train,predict_train)*100)"
   ]
  },
  {
   "cell_type": "code",
   "execution_count": 62,
   "metadata": {},
   "outputs": [
    {
     "name": "stdout",
     "output_type": "stream",
     "text": [
      "At cross fold(j) the cv score is 0.09536843025404101 and accuracy score for training is 0.09416001549305397 and accuracy score  for the 0.09398537867717249\n",
      "\n",
      "\n",
      "At cross fold(j) the cv score is 0.09470696215621928 and accuracy score for training is 0.09416001549305397 and accuracy score  for the 0.09398537867717249\n",
      "\n",
      "\n",
      "At cross fold(j) the cv score is 0.09541794978217397 and accuracy score for training is 0.09416001549305397 and accuracy score  for the 0.09398537867717249\n",
      "\n",
      "\n",
      "At cross fold(j) the cv score is 0.09383082141538646 and accuracy score for training is 0.09416001549305397 and accuracy score  for the 0.09398537867717249\n",
      "\n",
      "\n",
      "At cross fold(j) the cv score is 0.09380556401186808 and accuracy score for training is 0.09416001549305397 and accuracy score  for the 0.09398537867717249\n",
      "\n",
      "\n",
      "At cross fold(j) the cv score is 0.09362125472796896 and accuracy score for training is 0.09416001549305397 and accuracy score  for the 0.09398537867717249\n",
      "\n",
      "\n",
      "At cross fold(j) the cv score is 0.09437858856311937 and accuracy score for training is 0.09416001549305397 and accuracy score  for the 0.09398537867717249\n",
      "\n",
      "\n",
      "At cross fold(j) the cv score is 0.09318034559638642 and accuracy score for training is 0.09416001549305397 and accuracy score  for the 0.09398537867717249\n",
      "\n",
      "\n"
     ]
    }
   ],
   "source": [
    "Train_accuracy=r2_score(y_train,predict_train)\n",
    "Test_accuracy=r2_score(y_test,predict_test)\n",
    "\n",
    "from sklearn.model_selection import cross_val_score\n",
    "for j in range(2,10):\n",
    "    cv_score=cross_val_score(lr,x,y,cv=j)\n",
    "    cv_mean=cv_score.mean()\n",
    "    print(f'At cross fold(j) the cv score is {cv_mean} and accuracy score for training is {Train_accuracy} and accuracy score  for the {Test_accuracy}')\n",
    "    print('\\n')"
   ]
  },
  {
   "cell_type": "markdown",
   "metadata": {},
   "source": [
    "Lets plot with y_test vs prediction"
   ]
  },
  {
   "cell_type": "code",
   "execution_count": 63,
   "metadata": {},
   "outputs": [
    {
     "data": {
      "text/plain": [
       "<matplotlib.collections.PathCollection at 0x1c547b36910>"
      ]
     },
     "execution_count": 63,
     "metadata": {},
     "output_type": "execute_result"
    },
    {
     "data": {
      "image/png": "[encoded data removed]",
      "text/plain": [
       "<Figure size 432x288 with 1 Axes>"
      ]
     },
     "metadata": {
      "needs_background": "light"
     },
     "output_type": "display_data"
    }
   ],
   "source": [
    "plt.scatter(x=y_test,y=predict_test)"
   ]
  },
  {
   "cell_type": "markdown",
   "metadata": {},
   "source": [
    "# Decision Tree Regressor Model"
   ]
  },
  {
   "cell_type": "code",
   "execution_count": 64,
   "metadata": {},
   "outputs": [],
   "source": [
    "from sklearn.tree import DecisionTreeRegressor\n",
    "dtr=DecisionTreeRegressor()\n",
    "from sklearn.metrics import r2_score\n",
    "from sklearn.metrics import mean_squared_error\n",
    "from sklearn.metrics import mean_absolute_error\n",
    "from sklearn.model_selection import train_test_split"
   ]
  },
  {
   "cell_type": "code",
   "execution_count": 65,
   "metadata": {},
   "outputs": [
    {
     "name": "stdout",
     "output_type": "stream",
     "text": [
      "At random state 0,the training accuracy is:0.9993768285425757\n",
      "At random state 0,the testing accuracy is:-0.537561228345816\n",
      "\n",
      "\n",
      "At random state 1,the training accuracy is:0.9993947748682056\n",
      "At random state 1,the testing accuracy is:-0.6135032893460282\n",
      "\n",
      "\n",
      "At random state 2,the training accuracy is:0.9987406712959734\n",
      "At random state 2,the testing accuracy is:-0.7262813339027696\n",
      "\n",
      "\n",
      "At random state 3,the training accuracy is:0.9991955981546822\n",
      "At random state 3,the testing accuracy is:-0.5684490008125782\n",
      "\n",
      "\n",
      "At random state 4,the training accuracy is:0.9982686250043206\n",
      "At random state 4,the testing accuracy is:-0.5457129011749364\n",
      "\n",
      "\n",
      "At random state 5,the training accuracy is:0.9993878025828331\n",
      "At random state 5,the testing accuracy is:-0.6579860695844439\n",
      "\n",
      "\n",
      "At random state 6,the training accuracy is:0.9984821947026611\n",
      "At random state 6,the testing accuracy is:-0.5127973356852382\n",
      "\n",
      "\n",
      "At random state 7,the training accuracy is:0.9991856745784359\n",
      "At random state 7,the testing accuracy is:-0.7207500790069057\n",
      "\n",
      "\n",
      "At random state 8,the training accuracy is:0.999231189021645\n",
      "At random state 8,the testing accuracy is:-0.5551826495365884\n",
      "\n",
      "\n",
      "At random state 9,the training accuracy is:0.9989817574817376\n",
      "At random state 9,the testing accuracy is:-0.5750963913111173\n",
      "\n",
      "\n"
     ]
    }
   ],
   "source": [
    "for i in range(0,10):\n",
    "    x_train,x_test,y_train,y_test=train_test_split(x,y,test_size=0.33,random_state=i)\n",
    "    dtr.fit(x_train,y_train)\n",
    "    pred_train=dtr.predict(x_train)\n",
    "    pred_test=dtr.predict(x_test)\n",
    "    print(f'At random state {i},the training accuracy is:{r2_score(y_train,pred_train)}')\n",
    "    print(f'At random state {i},the testing accuracy is:{r2_score(y_test,pred_test)}')\n",
    "    print('\\n')"
   ]
  },
  {
   "cell_type": "code",
   "execution_count": 66,
   "metadata": {},
   "outputs": [
    {
     "data": {
      "text/plain": [
       "DecisionTreeRegressor()"
      ]
     },
     "execution_count": 66,
     "metadata": {},
     "output_type": "execute_result"
    }
   ],
   "source": [
    "x_train,x_test,y_train,y_test=train_test_split(x,y,test_size=0.7,random_state=9)\n",
    "dtr.fit(x_train,y_train)"
   ]
  },
  {
   "cell_type": "code",
   "execution_count": 67,
   "metadata": {},
   "outputs": [],
   "source": [
    "pred=lr.predict(x_test)"
   ]
  },
  {
   "cell_type": "code",
   "execution_count": 68,
   "metadata": {},
   "outputs": [
    {
     "data": {
      "text/html": [
       "<div>\n",
       "<style scoped>\n",
       "    .dataframe tbody tr th:only-of-type {\n",
       "        vertical-align: middle;\n",
       "    }\n",
       "\n",
       "    .dataframe tbody tr th {\n",
       "        vertical-align: top;\n",
       "    }\n",
       "\n",
       "    .dataframe thead th {\n",
       "        text-align: right;\n",
       "    }\n",
       "</style>\n",
       "<table border=\"1\" class=\"dataframe\">\n",
       "  <thead>\n",
       "    <tr style=\"text-align: right;\">\n",
       "      <th></th>\n",
       "      <th>Actual</th>\n",
       "      <th>Predicted</th>\n",
       "    </tr>\n",
       "  </thead>\n",
       "  <tbody>\n",
       "    <tr>\n",
       "      <th>1204</th>\n",
       "      <td>150</td>\n",
       "      <td>308.147585</td>\n",
       "    </tr>\n",
       "    <tr>\n",
       "      <th>1758</th>\n",
       "      <td>500</td>\n",
       "      <td>248.508197</td>\n",
       "    </tr>\n",
       "    <tr>\n",
       "      <th>4464</th>\n",
       "      <td>500</td>\n",
       "      <td>311.342671</td>\n",
       "    </tr>\n",
       "    <tr>\n",
       "      <th>5357</th>\n",
       "      <td>100</td>\n",
       "      <td>301.207749</td>\n",
       "    </tr>\n",
       "    <tr>\n",
       "      <th>1655</th>\n",
       "      <td>200</td>\n",
       "      <td>305.588414</td>\n",
       "    </tr>\n",
       "  </tbody>\n",
       "</table>\n",
       "</div>"
      ],
      "text/plain": [
       "      Actual   Predicted\n",
       "1204     150  308.147585\n",
       "1758     500  248.508197\n",
       "4464     500  311.342671\n",
       "5357     100  301.207749\n",
       "1655     200  305.588414"
      ]
     },
     "execution_count": 68,
     "metadata": {},
     "output_type": "execute_result"
    }
   ],
   "source": [
    "df=pd.DataFrame({'Actual':y_test,'Predicted':pred})\n",
    "df.head()"
   ]
  },
  {
   "cell_type": "code",
   "execution_count": 69,
   "metadata": {},
   "outputs": [
    {
     "name": "stdout",
     "output_type": "stream",
     "text": [
      "error:\n",
      "Mean absolute error: 147.88742191451124\n",
      "Mean squared error: 33176.46524843678\n",
      "Root mean squared error: 182.1440782689264\n"
     ]
    }
   ],
   "source": [
    "print(\"error:\")\n",
    "print(\"Mean absolute error:\",mean_absolute_error(y_test,pred))\n",
    "print(\"Mean squared error:\",mean_squared_error(y_test,pred))\n",
    "print(\"Root mean squared error:\",np.sqrt(mean_squared_error(y_test,pred)))"
   ]
  },
  {
   "cell_type": "code",
   "execution_count": 70,
   "metadata": {},
   "outputs": [
    {
     "name": "stdout",
     "output_type": "stream",
     "text": [
      "-72.93962489233859\n"
     ]
    }
   ],
   "source": [
    "predict_test=dtr.predict(x_test)\n",
    "print(r2_score(y_test,predict_test)*100)"
   ]
  },
  {
   "cell_type": "code",
   "execution_count": 71,
   "metadata": {},
   "outputs": [
    {
     "name": "stdout",
     "output_type": "stream",
     "text": [
      "99.92935901403376\n"
     ]
    }
   ],
   "source": [
    "predict_train=dtr.predict(x_train)\n",
    "print(r2_score(y_train,predict_train)*100)"
   ]
  },
  {
   "cell_type": "code",
   "execution_count": 72,
   "metadata": {},
   "outputs": [
    {
     "name": "stdout",
     "output_type": "stream",
     "text": [
      "At cross fold(j) the cv score is -0.6143008488405766 and accuracy score for training is 0.9992935901403377 and accuracy score  for the -0.7293962489233858\n",
      "\n",
      "\n",
      "At cross fold(j) the cv score is -0.5611618444905638 and accuracy score for training is 0.9992935901403377 and accuracy score  for the -0.7293962489233858\n",
      "\n",
      "\n",
      "At cross fold(j) the cv score is -0.5968692342188266 and accuracy score for training is 0.9992935901403377 and accuracy score  for the -0.7293962489233858\n",
      "\n",
      "\n",
      "At cross fold(j) the cv score is -0.5908749960516836 and accuracy score for training is 0.9992935901403377 and accuracy score  for the -0.7293962489233858\n",
      "\n",
      "\n",
      "At cross fold(j) the cv score is -0.5727844934650618 and accuracy score for training is 0.9992935901403377 and accuracy score  for the -0.7293962489233858\n",
      "\n",
      "\n",
      "At cross fold(j) the cv score is -0.53640096970398 and accuracy score for training is 0.9992935901403377 and accuracy score  for the -0.7293962489233858\n",
      "\n",
      "\n",
      "At cross fold(j) the cv score is -0.5265225354537586 and accuracy score for training is 0.9992935901403377 and accuracy score  for the -0.7293962489233858\n",
      "\n",
      "\n",
      "At cross fold(j) the cv score is -0.5597479135296329 and accuracy score for training is 0.9992935901403377 and accuracy score  for the -0.7293962489233858\n",
      "\n",
      "\n"
     ]
    }
   ],
   "source": [
    "Train_accuracy=r2_score(y_train,predict_train)\n",
    "Test_accuracy=r2_score(y_test,predict_test)\n",
    "\n",
    "from sklearn.model_selection import cross_val_score\n",
    "for j in range(2,10):\n",
    "    cv_score=cross_val_score(dtr,x,y,cv=j)\n",
    "    cv_mean=cv_score.mean()\n",
    "    print(f'At cross fold(j) the cv score is {cv_mean} and accuracy score for training is {Train_accuracy} and accuracy score  for the {Test_accuracy}')\n",
    "    print('\\n')"
   ]
  },
  {
   "cell_type": "markdown",
   "metadata": {},
   "source": [
    "Lets plot with y_test vs prediction"
   ]
  },
  {
   "cell_type": "code",
   "execution_count": 73,
   "metadata": {},
   "outputs": [
    {
     "data": {
      "text/plain": [
       "<matplotlib.collections.PathCollection at 0x1c54763a580>"
      ]
     },
     "execution_count": 73,
     "metadata": {},
     "output_type": "execute_result"
    },
    {
     "data": {
      "image/png": "[encoded data removed]",
      "text/plain": [
       "<Figure size 432x288 with 1 Axes>"
      ]
     },
     "metadata": {
      "needs_background": "light"
     },
     "output_type": "display_data"
    }
   ],
   "source": [
    "plt.scatter(x=y_test,y=predict_test)"
   ]
  },
  {
   "cell_type": "markdown",
   "metadata": {},
   "source": [
    "# Random Forest Regressor Model"
   ]
  },
  {
   "cell_type": "code",
   "execution_count": 74,
   "metadata": {},
   "outputs": [],
   "source": [
    "from sklearn.ensemble import RandomForestRegressor\n",
    "rdr=RandomForestRegressor()\n",
    "from sklearn.metrics import r2_score\n",
    "from sklearn.metrics import mean_squared_error\n",
    "from sklearn.metrics import mean_absolute_error\n",
    "from sklearn.model_selection import train_test_split"
   ]
  },
  {
   "cell_type": "code",
   "execution_count": 75,
   "metadata": {},
   "outputs": [
    {
     "name": "stdout",
     "output_type": "stream",
     "text": [
      "At random state 0,the training accuracy is:0.8803209678181122\n",
      "At random state 0,the testing accuracy is:0.15900335897598128\n",
      "\n",
      "\n",
      "At random state 1,the training accuracy is:0.8802391414977845\n",
      "At random state 1,the testing accuracy is:0.14633840870589643\n",
      "\n",
      "\n",
      "At random state 2,the training accuracy is:0.8803253370505126\n",
      "At random state 2,the testing accuracy is:0.13911091278331866\n",
      "\n",
      "\n",
      "At random state 3,the training accuracy is:0.8788298587343362\n",
      "At random state 3,the testing accuracy is:0.12767444348324686\n",
      "\n",
      "\n",
      "At random state 4,the training accuracy is:0.8793785899171871\n",
      "At random state 4,the testing accuracy is:0.15636218160256166\n",
      "\n",
      "\n",
      "At random state 5,the training accuracy is:0.8816420465292378\n",
      "At random state 5,the testing accuracy is:0.14433598580209273\n",
      "\n",
      "\n",
      "At random state 6,the training accuracy is:0.8805247811179375\n",
      "At random state 6,the testing accuracy is:0.1468337150892698\n",
      "\n",
      "\n",
      "At random state 7,the training accuracy is:0.8814453965771363\n",
      "At random state 7,the testing accuracy is:0.09819339499092405\n",
      "\n",
      "\n",
      "At random state 8,the training accuracy is:0.8789116741188862\n",
      "At random state 8,the testing accuracy is:0.14643250058635382\n",
      "\n",
      "\n",
      "At random state 9,the training accuracy is:0.8806222833152144\n",
      "At random state 9,the testing accuracy is:0.1311286745807\n",
      "\n",
      "\n"
     ]
    }
   ],
   "source": [
    "for i in range(0,10):\n",
    "    x_train,x_test,y_train,y_test=train_test_split(x,y,test_size=0.33,random_state=i)\n",
    "    rdr.fit(x_train,y_train)\n",
    "    pred_train=rdr.predict(x_train)\n",
    "    pred_test=rdr.predict(x_test)\n",
    "    print(f'At random state {i},the training accuracy is:{r2_score(y_train,pred_train)}')\n",
    "    print(f'At random state {i},the testing accuracy is:{r2_score(y_test,pred_test)}')\n",
    "    print('\\n')"
   ]
  },
  {
   "cell_type": "code",
   "execution_count": 76,
   "metadata": {},
   "outputs": [
    {
     "data": {
      "text/plain": [
       "RandomForestRegressor()"
      ]
     },
     "execution_count": 76,
     "metadata": {},
     "output_type": "execute_result"
    }
   ],
   "source": [
    "x_train,x_test,y_train,y_test=train_test_split(x,y,test_size=0.7,random_state=6)\n",
    "rdr.fit(x_train,y_train)"
   ]
  },
  {
   "cell_type": "code",
   "execution_count": 77,
   "metadata": {},
   "outputs": [],
   "source": [
    "pred=rdr.predict(x_test)"
   ]
  },
  {
   "cell_type": "code",
   "execution_count": 78,
   "metadata": {},
   "outputs": [
    {
     "data": {
      "text/html": [
       "<div>\n",
       "<style scoped>\n",
       "    .dataframe tbody tr th:only-of-type {\n",
       "        vertical-align: middle;\n",
       "    }\n",
       "\n",
       "    .dataframe tbody tr th {\n",
       "        vertical-align: top;\n",
       "    }\n",
       "\n",
       "    .dataframe thead th {\n",
       "        text-align: right;\n",
       "    }\n",
       "</style>\n",
       "<table border=\"1\" class=\"dataframe\">\n",
       "  <thead>\n",
       "    <tr style=\"text-align: right;\">\n",
       "      <th></th>\n",
       "      <th>Actual</th>\n",
       "      <th>Predicted</th>\n",
       "    </tr>\n",
       "  </thead>\n",
       "  <tbody>\n",
       "    <tr>\n",
       "      <th>4136</th>\n",
       "      <td>200</td>\n",
       "      <td>305.0</td>\n",
       "    </tr>\n",
       "    <tr>\n",
       "      <th>4446</th>\n",
       "      <td>100</td>\n",
       "      <td>299.7</td>\n",
       "    </tr>\n",
       "    <tr>\n",
       "      <th>748</th>\n",
       "      <td>500</td>\n",
       "      <td>471.5</td>\n",
       "    </tr>\n",
       "    <tr>\n",
       "      <th>1350</th>\n",
       "      <td>600</td>\n",
       "      <td>502.0</td>\n",
       "    </tr>\n",
       "    <tr>\n",
       "      <th>4835</th>\n",
       "      <td>900</td>\n",
       "      <td>338.5</td>\n",
       "    </tr>\n",
       "  </tbody>\n",
       "</table>\n",
       "</div>"
      ],
      "text/plain": [
       "      Actual  Predicted\n",
       "4136     200      305.0\n",
       "4446     100      299.7\n",
       "748      500      471.5\n",
       "1350     600      502.0\n",
       "4835     900      338.5"
      ]
     },
     "execution_count": 78,
     "metadata": {},
     "output_type": "execute_result"
    }
   ],
   "source": [
    "df=pd.DataFrame({'Actual':y_test,'Predicted':pred})\n",
    "df.head()"
   ]
  },
  {
   "cell_type": "code",
   "execution_count": 79,
   "metadata": {},
   "outputs": [
    {
     "name": "stdout",
     "output_type": "stream",
     "text": [
      "error:\n",
      "Mean absolute error: 140.46721297912887\n",
      "Mean squared error: 31792.496157649384\n",
      "Root mean squared error: 178.30450403074337\n"
     ]
    }
   ],
   "source": [
    "print(\"error:\")\n",
    "print(\"Mean absolute error:\",mean_absolute_error(y_test,pred))\n",
    "print(\"Mean squared error:\",mean_squared_error(y_test,pred))\n",
    "print(\"Root mean squared error:\",np.sqrt(mean_squared_error(y_test,pred)))"
   ]
  },
  {
   "cell_type": "code",
   "execution_count": 80,
   "metadata": {},
   "outputs": [
    {
     "name": "stdout",
     "output_type": "stream",
     "text": [
      "12.161960220342916\n"
     ]
    }
   ],
   "source": [
    "predict_test=rdr.predict(x_test)\n",
    "print(r2_score(y_test,predict_test)*100)"
   ]
  },
  {
   "cell_type": "code",
   "execution_count": 81,
   "metadata": {},
   "outputs": [
    {
     "name": "stdout",
     "output_type": "stream",
     "text": [
      "87.76823199370158\n"
     ]
    }
   ],
   "source": [
    "predict_train=rdr.predict(x_train)\n",
    "print(r2_score(y_train,predict_train)*100)"
   ]
  },
  {
   "cell_type": "code",
   "execution_count": 82,
   "metadata": {},
   "outputs": [
    {
     "name": "stdout",
     "output_type": "stream",
     "text": [
      "At cross fold(j) the cv score is 0.1483781763530468 and accuracy score for training is 0.8776823199370157 and accuracy score  for the 0.12161960220342916\n",
      "\n",
      "\n",
      "At cross fold(j) the cv score is 0.14910467219283915 and accuracy score for training is 0.8776823199370157 and accuracy score  for the 0.12161960220342916\n",
      "\n",
      "\n",
      "At cross fold(j) the cv score is 0.15849634864937853 and accuracy score for training is 0.8776823199370157 and accuracy score  for the 0.12161960220342916\n",
      "\n",
      "\n",
      "At cross fold(j) the cv score is 0.1593270633210124 and accuracy score for training is 0.8776823199370157 and accuracy score  for the 0.12161960220342916\n",
      "\n",
      "\n",
      "At cross fold(j) the cv score is 0.16145604717898177 and accuracy score for training is 0.8776823199370157 and accuracy score  for the 0.12161960220342916\n",
      "\n",
      "\n",
      "At cross fold(j) the cv score is 0.15760572129747166 and accuracy score for training is 0.8776823199370157 and accuracy score  for the 0.12161960220342916\n",
      "\n",
      "\n",
      "At cross fold(j) the cv score is 0.15640220293057766 and accuracy score for training is 0.8776823199370157 and accuracy score  for the 0.12161960220342916\n",
      "\n",
      "\n",
      "At cross fold(j) the cv score is 0.16722465022922017 and accuracy score for training is 0.8776823199370157 and accuracy score  for the 0.12161960220342916\n",
      "\n",
      "\n"
     ]
    }
   ],
   "source": [
    "Train_accuracy=r2_score(y_train,predict_train)\n",
    "Test_accuracy=r2_score(y_test,predict_test)\n",
    "\n",
    "from sklearn.model_selection import cross_val_score\n",
    "for j in range(2,10):\n",
    "    cv_score=cross_val_score(rdr,x,y,cv=j)\n",
    "    cv_mean=cv_score.mean()\n",
    "    print(f'At cross fold(j) the cv score is {cv_mean} and accuracy score for training is {Train_accuracy} and accuracy score  for the {Test_accuracy}')\n",
    "    print('\\n')"
   ]
  },
  {
   "cell_type": "markdown",
   "metadata": {},
   "source": [
    "Lets plot with y_test vs prediction"
   ]
  },
  {
   "cell_type": "code",
   "execution_count": 83,
   "metadata": {},
   "outputs": [
    {
     "data": {
      "text/plain": [
       "<matplotlib.collections.PathCollection at 0x1c547c16490>"
      ]
     },
     "execution_count": 83,
     "metadata": {},
     "output_type": "execute_result"
    },
    {
     "data": {
      "image/png": "[encoded data removed]",
      "text/plain": [
       "<Figure size 432x288 with 1 Axes>"
      ]
     },
     "metadata": {
      "needs_background": "light"
     },
     "output_type": "display_data"
    }
   ],
   "source": [
    "plt.scatter(x=y_test,y=predict_test)"
   ]
  },
  {
   "cell_type": "code",
   "execution_count": 84,
   "metadata": {},
   "outputs": [
    {
     "data": {
      "text/plain": [
       "<AxesSubplot:xlabel='Fees', ylabel='Density'>"
      ]
     },
     "execution_count": 84,
     "metadata": {},
     "output_type": "execute_result"
    },
    {
     "data": {
      "image/png": "[encoded data removed]",
      "text/plain": [
       "<Figure size 432x288 with 1 Axes>"
      ]
     },
     "metadata": {
      "needs_background": "light"
     },
     "output_type": "display_data"
    }
   ],
   "source": [
    "sns.distplot((y_test-predict_test),bins=50)"
   ]
  },
  {
   "cell_type": "markdown",
   "metadata": {},
   "source": [
    "# Hyper Parameter Tuning"
   ]
  },
  {
   "cell_type": "markdown",
   "metadata": {},
   "source": [
    "Hyper Parameter Tuning for Linear Regression"
   ]
  },
  {
   "cell_type": "code",
   "execution_count": 85,
   "metadata": {},
   "outputs": [
    {
     "name": "stdout",
     "output_type": "stream",
     "text": [
      "{'alpha': 0.1, 'random_state': 0}\n"
     ]
    }
   ],
   "source": [
    "from sklearn.model_selection import GridSearchCV\n",
    "from sklearn.linear_model import Lasso\n",
    "parameters={'alpha':[.0001,.001,0.1,.1,1,10],'random_state':list(range(0,10))}\n",
    "ls=Lasso()\n",
    "clf=GridSearchCV(ls,parameters)\n",
    "clf.fit(x_train,y_train)\n",
    "print(clf.best_params_)"
   ]
  },
  {
   "cell_type": "code",
   "execution_count": 86,
   "metadata": {},
   "outputs": [
    {
     "name": "stdout",
     "output_type": "stream",
     "text": [
      "R2 Score: 8.957319112512096\n",
      "Cross Val Score: 9.386107658639819\n"
     ]
    }
   ],
   "source": [
    "ls=Lasso(alpha=0.1,random_state=0)\n",
    "ls.fit(x_train,y_train)\n",
    "ls.score(x_train,y_train)\n",
    "pred_decision=ls.predict(x_test)\n",
    "lss=r2_score(y_test,pred_decision)\n",
    "print('R2 Score:',lss*100)\n",
    "lsscore=cross_val_score(ls,x,y,cv=5)\n",
    "lsc=lsscore.mean()\n",
    "print('Cross Val Score:',lsc*100)"
   ]
  },
  {
   "cell_type": "markdown",
   "metadata": {},
   "source": [
    "Hyper Parameter Tuning for Decision Tree Regressor"
   ]
  },
  {
   "cell_type": "code",
   "execution_count": 87,
   "metadata": {},
   "outputs": [
    {
     "data": {
      "text/plain": [
       "GridSearchCV(cv=5, estimator=DecisionTreeRegressor(),\n",
       "             param_grid={'max_depth': array([ 2,  3,  4,  5,  6,  7,  8,  9, 10, 11, 12, 13, 14]),\n",
       "                         'random_state': [0, 1, 2, 3, 4, 5, 6, 7, 8, 9]})"
      ]
     },
     "execution_count": 87,
     "metadata": {},
     "output_type": "execute_result"
    }
   ],
   "source": [
    "from sklearn.model_selection import GridSearchCV\n",
    "parameters = {'max_depth': np.arange(2, 15),'random_state':list(range(0,10))}\n",
    "GCV=GridSearchCV(DecisionTreeRegressor(),parameters,cv=5)\n",
    "GCV.fit(x_train,y_train)"
   ]
  },
  {
   "cell_type": "code",
   "execution_count": 88,
   "metadata": {},
   "outputs": [
    {
     "data": {
      "text/plain": [
       "{'max_depth': 3, 'random_state': 0}"
      ]
     },
     "execution_count": 88,
     "metadata": {},
     "output_type": "execute_result"
    }
   ],
   "source": [
    "GCV.best_params_"
   ]
  },
  {
   "cell_type": "code",
   "execution_count": 89,
   "metadata": {},
   "outputs": [
    {
     "name": "stdout",
     "output_type": "stream",
     "text": [
      "R2 Score: 12.142692895915841\n",
      "Cross Val Score: 11.426350167916096\n"
     ]
    }
   ],
   "source": [
    "dtr=DecisionTreeRegressor(max_depth=3,random_state=0)\n",
    "\n",
    "dtr.fit(x_train,y_train)\n",
    "dtr.score(x_train,y_train)\n",
    "pred_decision=dtr.predict(x_test)\n",
    "dtrs=r2_score(y_test,pred_decision)\n",
    "print('R2 Score:',dtrs*100)\n",
    "dtrscore=cross_val_score(dtr,x,y,cv=5)\n",
    "dtrc=dtrscore.mean()\n",
    "print('Cross Val Score:',dtrc*100)"
   ]
  },
  {
   "cell_type": "markdown",
   "metadata": {},
   "source": [
    "Hyper Parameter Tuning for Random Forest Regressor"
   ]
  },
  {
   "cell_type": "code",
   "execution_count": 90,
   "metadata": {},
   "outputs": [
    {
     "name": "stdout",
     "output_type": "stream",
     "text": [
      "{'criterion': 'mae', 'max_features': 'sqrt', 'random_state': 1}\n"
     ]
    }
   ],
   "source": [
    "from sklearn.model_selection import GridSearchCV\n",
    "parameters={'criterion':['mse','mae'],'max_features':['auto','sqrt','log2'],'random_state':list(range(0,10))}\n",
    "rdr=RandomForestRegressor()\n",
    "clf=GridSearchCV(rdr,parameters)\n",
    "clf.fit(x_train,y_train)\n",
    "print(clf.best_params_)"
   ]
  },
  {
   "cell_type": "code",
   "execution_count": 91,
   "metadata": {},
   "outputs": [
    {
     "name": "stdout",
     "output_type": "stream",
     "text": [
      "R2 Score: 14.922765869317578\n",
      "Cross Val Score: 17.54262351898848\n"
     ]
    }
   ],
   "source": [
    "rdr=RandomForestRegressor(criterion='mae',max_features='sqrt',random_state=1)\n",
    "rdr.fit(x_train,y_train)\n",
    "rdr.score(x_train,y_train)\n",
    "pred_decision=rdr.predict(x_test)\n",
    "rdrs=r2_score(y_test,pred_decision)\n",
    "print('R2 Score:',rdrs*100)\n",
    "rdrscore=cross_val_score(rdr,x,y,cv=5)\n",
    "rdrc=rdrscore.mean()\n",
    "print('Cross Val Score:',rdrc*100)"
   ]
  },
  {
   "cell_type": "markdown",
   "metadata": {},
   "source": [
    "Compare with Actual Final Vs Sample Prediction"
   ]
  },
  {
   "cell_type": "code",
   "execution_count": 92,
   "metadata": {},
   "outputs": [
    {
     "data": {
      "text/html": [
       "<div>\n",
       "<style scoped>\n",
       "    .dataframe tbody tr th:only-of-type {\n",
       "        vertical-align: middle;\n",
       "    }\n",
       "\n",
       "    .dataframe tbody tr th {\n",
       "        vertical-align: top;\n",
       "    }\n",
       "\n",
       "    .dataframe thead th {\n",
       "        text-align: right;\n",
       "    }\n",
       "</style>\n",
       "<table border=\"1\" class=\"dataframe\">\n",
       "  <thead>\n",
       "    <tr style=\"text-align: right;\">\n",
       "      <th></th>\n",
       "      <th>Y Test</th>\n",
       "      <th>Prediction</th>\n",
       "    </tr>\n",
       "  </thead>\n",
       "  <tbody>\n",
       "    <tr>\n",
       "      <th>4136</th>\n",
       "      <td>200</td>\n",
       "      <td>305.0</td>\n",
       "    </tr>\n",
       "    <tr>\n",
       "      <th>4446</th>\n",
       "      <td>100</td>\n",
       "      <td>299.7</td>\n",
       "    </tr>\n",
       "    <tr>\n",
       "      <th>748</th>\n",
       "      <td>500</td>\n",
       "      <td>471.5</td>\n",
       "    </tr>\n",
       "    <tr>\n",
       "      <th>1350</th>\n",
       "      <td>600</td>\n",
       "      <td>502.0</td>\n",
       "    </tr>\n",
       "    <tr>\n",
       "      <th>4835</th>\n",
       "      <td>900</td>\n",
       "      <td>338.5</td>\n",
       "    </tr>\n",
       "  </tbody>\n",
       "</table>\n",
       "</div>"
      ],
      "text/plain": [
       "      Y Test  Prediction\n",
       "4136     200       305.0\n",
       "4446     100       299.7\n",
       "748      500       471.5\n",
       "1350     600       502.0\n",
       "4835     900       338.5"
      ]
     },
     "execution_count": 92,
     "metadata": {},
     "output_type": "execute_result"
    },
    {
     "data": {
      "image/png": "[encoded data removed]",
      "text/plain": [
       "<Figure size 360x360 with 1 Axes>"
      ]
     },
     "metadata": {
      "needs_background": "light"
     },
     "output_type": "display_data"
    }
   ],
   "source": [
    "data=pd.DataFrame({'Y Test':y_test , 'Prediction':predict_test},columns=['Y Test','Prediction'])\n",
    "sns.lmplot(x='Y Test',y='Prediction',data=data,palette='rainbow')\n",
    "data.head()"
   ]
  },
  {
   "cell_type": "markdown",
   "metadata": {},
   "source": [
    "# Saving the Model"
   ]
  },
  {
   "cell_type": "code",
   "execution_count": 93,
   "metadata": {},
   "outputs": [],
   "source": [
    "import pickle\n",
    "filename='Doctors Consultation Fees Prediction.pkl'\n",
    "pickle.dump(rdr, open(filename, 'wb'))"
   ]
  },
  {
   "cell_type": "markdown",
   "metadata": {},
   "source": [
    "# Conclusion"
   ]
  },
  {
   "cell_type": "code",
   "execution_count": 94,
   "metadata": {},
   "outputs": [
    {
     "name": "stdout",
     "output_type": "stream",
     "text": [
      "14.922765869317578\n"
     ]
    }
   ],
   "source": [
    "loaded_model = pickle.load(open('Doctors Consultation Fees Prediction.pkl', 'rb'))\n",
    "result = loaded_model.score(x_test,y_test)\n",
    "print(result*100)"
   ]
  },
  {
   "cell_type": "code",
   "execution_count": 95,
   "metadata": {},
   "outputs": [
    {
     "data": {
      "text/html": [
       "<div>\n",
       "<style scoped>\n",
       "    .dataframe tbody tr th:only-of-type {\n",
       "        vertical-align: middle;\n",
       "    }\n",
       "\n",
       "    .dataframe tbody tr th {\n",
       "        vertical-align: top;\n",
       "    }\n",
       "\n",
       "    .dataframe thead th {\n",
       "        text-align: right;\n",
       "    }\n",
       "</style>\n",
       "<table border=\"1\" class=\"dataframe\">\n",
       "  <thead>\n",
       "    <tr style=\"text-align: right;\">\n",
       "      <th></th>\n",
       "      <th>0</th>\n",
       "      <th>1</th>\n",
       "      <th>2</th>\n",
       "      <th>3</th>\n",
       "      <th>4</th>\n",
       "      <th>5</th>\n",
       "      <th>6</th>\n",
       "      <th>7</th>\n",
       "      <th>8</th>\n",
       "      <th>9</th>\n",
       "      <th>...</th>\n",
       "      <th>4163</th>\n",
       "      <th>4164</th>\n",
       "      <th>4165</th>\n",
       "      <th>4166</th>\n",
       "      <th>4167</th>\n",
       "      <th>4168</th>\n",
       "      <th>4169</th>\n",
       "      <th>4170</th>\n",
       "      <th>4171</th>\n",
       "      <th>4172</th>\n",
       "    </tr>\n",
       "  </thead>\n",
       "  <tbody>\n",
       "    <tr>\n",
       "      <th>Predicted</th>\n",
       "      <td>288.0</td>\n",
       "      <td>229.5</td>\n",
       "      <td>423.5</td>\n",
       "      <td>475.5</td>\n",
       "      <td>336.0</td>\n",
       "      <td>438.5</td>\n",
       "      <td>480.0</td>\n",
       "      <td>316.8</td>\n",
       "      <td>198.2</td>\n",
       "      <td>256.0</td>\n",
       "      <td>...</td>\n",
       "      <td>229.8</td>\n",
       "      <td>275.0</td>\n",
       "      <td>263.5</td>\n",
       "      <td>362.0</td>\n",
       "      <td>346.5</td>\n",
       "      <td>290.0</td>\n",
       "      <td>320.5</td>\n",
       "      <td>464.5</td>\n",
       "      <td>216.7</td>\n",
       "      <td>474.5</td>\n",
       "    </tr>\n",
       "    <tr>\n",
       "      <th>Original</th>\n",
       "      <td>288.0</td>\n",
       "      <td>229.5</td>\n",
       "      <td>423.5</td>\n",
       "      <td>475.5</td>\n",
       "      <td>336.0</td>\n",
       "      <td>438.5</td>\n",
       "      <td>480.0</td>\n",
       "      <td>316.8</td>\n",
       "      <td>198.2</td>\n",
       "      <td>256.0</td>\n",
       "      <td>...</td>\n",
       "      <td>229.8</td>\n",
       "      <td>275.0</td>\n",
       "      <td>263.5</td>\n",
       "      <td>362.0</td>\n",
       "      <td>346.5</td>\n",
       "      <td>290.0</td>\n",
       "      <td>320.5</td>\n",
       "      <td>464.5</td>\n",
       "      <td>216.7</td>\n",
       "      <td>474.5</td>\n",
       "    </tr>\n",
       "  </tbody>\n",
       "</table>\n",
       "<p>2 rows × 4173 columns</p>\n",
       "</div>"
      ],
      "text/plain": [
       "            0      1      2      3      4      5      6      7      8     \\\n",
       "Predicted  288.0  229.5  423.5  475.5  336.0  438.5  480.0  316.8  198.2   \n",
       "Original   288.0  229.5  423.5  475.5  336.0  438.5  480.0  316.8  198.2   \n",
       "\n",
       "            9     ...   4163   4164   4165   4166   4167   4168   4169   4170  \\\n",
       "Predicted  256.0  ...  229.8  275.0  263.5  362.0  346.5  290.0  320.5  464.5   \n",
       "Original   256.0  ...  229.8  275.0  263.5  362.0  346.5  290.0  320.5  464.5   \n",
       "\n",
       "            4171   4172  \n",
       "Predicted  216.7  474.5  \n",
       "Original   216.7  474.5  \n",
       "\n",
       "[2 rows x 4173 columns]"
      ]
     },
     "execution_count": 95,
     "metadata": {},
     "output_type": "execute_result"
    }
   ],
   "source": [
    "conclusion=pd.DataFrame([loaded_model.predict(x_test)[:],pred_decision[:]],index=['Predicted','Original'])\n",
    "conclusion"
   ]
  }
 ],
 "metadata": {
  "kernelspec": {
   "display_name": "Python 3",
   "language": "python",
   "name": "python3"
  },
  "language_info": {
   "codemirror_mode": {
    "name": "ipython",
    "version": 3
   },
   "file_extension": ".py",
   "mimetype": "text/x-python",
   "name": "python",
   "nbconvert_exporter": "python",
   "pygments_lexer": "ipython3",
   "version": "3.8.5"
  }
 },
 "nbformat": 4,
 "nbformat_minor": 4
}
